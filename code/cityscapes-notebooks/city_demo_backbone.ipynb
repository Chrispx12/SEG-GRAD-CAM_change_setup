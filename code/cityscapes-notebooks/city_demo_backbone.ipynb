{
 "cells": [
  {
   "cell_type": "markdown",
   "metadata": {},
   "source": [
    "# Demonstrate Seg-Grad-CAM on a U-Net with a backbone from 'segmentation_models' trained on Cityscapes"
   ]
  },
  {
   "cell_type": "markdown",
   "metadata": {},
   "source": [
    "## 0. Imports "
   ]
  },
  {
   "cell_type": "code",
   "execution_count": 4,
   "metadata": {},
   "outputs": [
    {
     "ename": "ModuleNotFoundError",
     "evalue": "No module named 'SegGradCAM'",
     "output_type": "error",
     "traceback": [
      "\u001b[1;31m---------------------------------------------------------------------------\u001b[0m",
      "\u001b[1;31mModuleNotFoundError\u001b[0m                       Traceback (most recent call last)",
      "\u001b[1;32m<ipython-input-4-40b9ce116642>\u001b[0m in \u001b[0;36m<module>\u001b[1;34m\u001b[0m\n\u001b[1;32m----> 1\u001b[1;33m \u001b[1;32mimport\u001b[0m \u001b[0mSegGradCAM\u001b[0m\u001b[1;31m#cam\u001b[0m\u001b[1;33m\u001b[0m\u001b[1;33m\u001b[0m\u001b[0m\n\u001b[0m",
      "\u001b[1;31mModuleNotFoundError\u001b[0m: No module named 'SegGradCAM'"
     ]
    }
   ],
   "source": [
    "import SegGradCAM#cam"
   ]
  },
  {
   "cell_type": "code",
   "execution_count": 1,
   "metadata": {},
   "outputs": [
    {
     "name": "stdout",
     "output_type": "stream",
     "text": [
      "Collecting git+https://github.com/kiraving/SegGradCAM\n",
      "  Cloning https://github.com/kiraving/SegGradCAM to c:\\users\\vinograd\\appdata\\local\\temp\\pip-req-build-ktl0jhxz\n",
      "Requirement already satisfied, skipping upgrade: csbdeep>=0.4.0 in c:\\users\\vinograd\\anaconda5.3\\envs\\tensorflow_gpuenv\\lib\\site-packages (from seggradcam==0.1.1) (0.4.0)\n",
      "Requirement already satisfied, skipping upgrade: tensorflow==1.14.0 in c:\\users\\vinograd\\anaconda3_12\\envs\\feb20tfclone\\lib\\site-packages (from seggradcam==0.1.1) (1.14.0)\n",
      "Requirement already satisfied, skipping upgrade: tensorflow-gpu in c:\\users\\vinograd\\anaconda5.3\\envs\\tensorflow_gpuenv\\lib\\site-packages (from seggradcam==0.1.1) (1.14.0)\n",
      "Requirement already satisfied, skipping upgrade: opencv-python in c:\\users\\vinograd\\anaconda3_12\\envs\\feb20tfclone\\lib\\site-packages (from seggradcam==0.1.1) (4.2.0.32)\n",
      "Requirement already satisfied, skipping upgrade: h5py in c:\\users\\vinograd\\anaconda3_12\\envs\\feb20tfclone\\lib\\site-packages (from csbdeep>=0.4.0->seggradcam==0.1.1) (2.8.0)\n",
      "Requirement already satisfied, skipping upgrade: scipy in c:\\users\\vinograd\\anaconda3_12\\envs\\feb20tfclone\\lib\\site-packages (from csbdeep>=0.4.0->seggradcam==0.1.1) (1.1.0)\n",
      "Requirement already satisfied, skipping upgrade: keras>=2.1.2 in c:\\users\\vinograd\\anaconda3_12\\envs\\feb20tfclone\\lib\\site-packages (from csbdeep>=0.4.0->seggradcam==0.1.1) (2.2.4)\n",
      "Requirement already satisfied, skipping upgrade: tqdm in c:\\users\\vinograd\\anaconda3_12\\envs\\feb20tfclone\\lib\\site-packages (from csbdeep>=0.4.0->seggradcam==0.1.1) (4.29.1)\n",
      "Requirement already satisfied, skipping upgrade: numpy in c:\\users\\vinograd\\anaconda3_12\\envs\\feb20tfclone\\lib\\site-packages (from csbdeep>=0.4.0->seggradcam==0.1.1) (1.15.4)\n",
      "Requirement already satisfied, skipping upgrade: matplotlib in c:\\users\\vinograd\\anaconda3_12\\envs\\feb20tfclone\\lib\\site-packages (from csbdeep>=0.4.0->seggradcam==0.1.1) (3.1.0)\n",
      "Requirement already satisfied, skipping upgrade: six in c:\\users\\vinograd\\anaconda3_12\\envs\\feb20tfclone\\lib\\site-packages (from csbdeep>=0.4.0->seggradcam==0.1.1) (1.11.0)\n",
      "Requirement already satisfied, skipping upgrade: tifffile in c:\\users\\vinograd\\anaconda5.3\\envs\\tensorflow_gpuenv\\lib\\site-packages (from csbdeep>=0.4.0->seggradcam==0.1.1) (2019.7.26)\n",
      "Requirement already satisfied, skipping upgrade: tensorflow-estimator<1.15.0rc0,>=1.14.0rc0 in c:\\users\\vinograd\\anaconda3_12\\envs\\feb20tfclone\\lib\\site-packages (from tensorflow==1.14.0->seggradcam==0.1.1) (1.14.0)\n",
      "Requirement already satisfied, skipping upgrade: grpcio>=1.8.6 in c:\\users\\vinograd\\anaconda3_12\\envs\\feb20tfclone\\lib\\site-packages (from tensorflow==1.14.0->seggradcam==0.1.1) (1.16.1)\n",
      "Requirement already satisfied, skipping upgrade: wrapt>=1.11.1 in c:\\users\\vinograd\\anaconda3_12\\envs\\feb20tfclone\\lib\\site-packages (from tensorflow==1.14.0->seggradcam==0.1.1) (1.11.2)\n",
      "Requirement already satisfied, skipping upgrade: keras-preprocessing>=1.0.5 in c:\\users\\vinograd\\anaconda3_12\\envs\\feb20tfclone\\lib\\site-packages (from tensorflow==1.14.0->seggradcam==0.1.1) (1.1.2)\n",
      "Requirement already satisfied, skipping upgrade: astor>=0.6.0 in c:\\users\\vinograd\\anaconda3_12\\envs\\feb20tfclone\\lib\\site-packages (from tensorflow==1.14.0->seggradcam==0.1.1) (0.7.1)\n",
      "Requirement already satisfied, skipping upgrade: protobuf>=3.6.1 in c:\\users\\vinograd\\anaconda3_12\\envs\\feb20tfclone\\lib\\site-packages (from tensorflow==1.14.0->seggradcam==0.1.1) (3.6.1)\n",
      "Requirement already satisfied, skipping upgrade: tensorboard<1.15.0,>=1.14.0 in c:\\users\\vinograd\\anaconda3_12\\envs\\feb20tfclone\\lib\\site-packages (from tensorflow==1.14.0->seggradcam==0.1.1) (1.14.0)\n",
      "Requirement already satisfied, skipping upgrade: termcolor>=1.1.0 in c:\\users\\vinograd\\anaconda3_12\\envs\\feb20tfclone\\lib\\site-packages (from tensorflow==1.14.0->seggradcam==0.1.1) (1.1.0)\n",
      "Requirement already satisfied, skipping upgrade: absl-py>=0.7.0 in c:\\users\\vinograd\\anaconda3_12\\envs\\feb20tfclone\\lib\\site-packages (from tensorflow==1.14.0->seggradcam==0.1.1) (0.10.0)\n",
      "Requirement already satisfied, skipping upgrade: google-pasta>=0.1.6 in c:\\users\\vinograd\\anaconda5.3\\envs\\tensorflow_gpuenv\\lib\\site-packages (from tensorflow==1.14.0->seggradcam==0.1.1) (0.1.7)\n",
      "Requirement already satisfied, skipping upgrade: wheel>=0.26 in c:\\users\\vinograd\\anaconda3_12\\envs\\feb20tfclone\\lib\\site-packages (from tensorflow==1.14.0->seggradcam==0.1.1) (0.32.3)\n",
      "Requirement already satisfied, skipping upgrade: keras-applications>=1.0.6 in c:\\users\\vinograd\\anaconda3_12\\envs\\feb20tfclone\\lib\\site-packages (from tensorflow==1.14.0->seggradcam==0.1.1) (1.0.8)\n",
      "Requirement already satisfied, skipping upgrade: gast>=0.2.0 in c:\\users\\vinograd\\anaconda3_12\\envs\\feb20tfclone\\lib\\site-packages (from tensorflow==1.14.0->seggradcam==0.1.1) (0.2.2)\n",
      "Requirement already satisfied, skipping upgrade: pyyaml in c:\\users\\vinograd\\anaconda3_12\\envs\\feb20tfclone\\lib\\site-packages (from keras>=2.1.2->csbdeep>=0.4.0->seggradcam==0.1.1) (3.13)\n",
      "Requirement already satisfied, skipping upgrade: cycler>=0.10 in c:\\users\\vinograd\\anaconda3_12\\envs\\feb20tfclone\\lib\\site-packages (from matplotlib->csbdeep>=0.4.0->seggradcam==0.1.1) (0.10.0)\n",
      "Requirement already satisfied, skipping upgrade: kiwisolver>=1.0.1 in c:\\users\\vinograd\\anaconda3_12\\envs\\feb20tfclone\\lib\\site-packages (from matplotlib->csbdeep>=0.4.0->seggradcam==0.1.1) (1.0.1)\n",
      "Requirement already satisfied, skipping upgrade: pyparsing!=2.0.4,!=2.1.2,!=2.1.6,>=2.0.1 in c:\\users\\vinograd\\anaconda3_12\\envs\\feb20tfclone\\lib\\site-packages (from matplotlib->csbdeep>=0.4.0->seggradcam==0.1.1) (2.3.0)\n",
      "Requirement already satisfied, skipping upgrade: python-dateutil>=2.1 in c:\\users\\vinograd\\anaconda3_12\\envs\\feb20tfclone\\lib\\site-packages (from matplotlib->csbdeep>=0.4.0->seggradcam==0.1.1) (2.7.5)\n",
      "Requirement already satisfied, skipping upgrade: imagecodecs>=2019.5.22; platform_system == \"Windows\" in c:\\users\\vinograd\\anaconda5.3\\envs\\tensorflow_gpuenv\\lib\\site-packages (from tifffile->csbdeep>=0.4.0->seggradcam==0.1.1) (2019.5.22)\n",
      "Requirement already satisfied, skipping upgrade: setuptools in c:\\users\\vinograd\\anaconda3_12\\envs\\feb20tfclone\\lib\\site-packages (from protobuf>=3.6.1->tensorflow==1.14.0->seggradcam==0.1.1) (50.3.0)\n",
      "Requirement already satisfied, skipping upgrade: markdown>=2.6.8 in c:\\users\\vinograd\\anaconda3_12\\envs\\feb20tfclone\\lib\\site-packages (from tensorboard<1.15.0,>=1.14.0->tensorflow==1.14.0->seggradcam==0.1.1) (3.0.1)\n",
      "Requirement already satisfied, skipping upgrade: werkzeug>=0.11.15 in c:\\users\\vinograd\\anaconda3_12\\envs\\feb20tfclone\\lib\\site-packages (from tensorboard<1.15.0,>=1.14.0->tensorflow==1.14.0->seggradcam==0.1.1) (0.14.1)\n",
      "Building wheels for collected packages: seggradcam\n",
      "  Running setup.py bdist_wheel for seggradcam: started\n",
      "  Running setup.py bdist_wheel for seggradcam: finished with status 'done'\n",
      "  Stored in directory: C:\\Users\\vinograd\\AppData\\Local\\Temp\\pip-ephem-wheel-cache-o3r651g3\\wheels\\b7\\20\\fa\\c88f65ae81c49fb0924c4fcaddcd5e72cf3c286845391d91a2\n",
      "Successfully built seggradcam\n",
      "Installing collected packages: seggradcam\n",
      "  Found existing installation: seggradcam 0.1.1\n",
      "    Uninstalling seggradcam-0.1.1:\n",
      "      Successfully uninstalled seggradcam-0.1.1\n",
      "Successfully installed seggradcam-0.1.1\n"
     ]
    }
   ],
   "source": [
    "!pip install git+https://github.com/kiraving/SegGradCAM --upgrade "
   ]
  },
  {
   "cell_type": "code",
   "execution_count": null,
   "metadata": {},
   "outputs": [],
   "source": [
    "!pip uninstall seggradcam"
   ]
  },
  {
   "cell_type": "code",
   "execution_count": 2,
   "metadata": {},
   "outputs": [
    {
     "ename": "ModuleNotFoundError",
     "evalue": "No module named 'seggradcam'",
     "output_type": "error",
     "traceback": [
      "\u001b[1;31m---------------------------------------------------------------------------\u001b[0m",
      "\u001b[1;31mModuleNotFoundError\u001b[0m                       Traceback (most recent call last)",
      "\u001b[1;32m<ipython-input-2-b7e1b7986a23>\u001b[0m in \u001b[0;36m<module>\u001b[1;34m\u001b[0m\n\u001b[1;32m----> 1\u001b[1;33m \u001b[1;32mimport\u001b[0m \u001b[0mseggradcam\u001b[0m\u001b[1;33m\u001b[0m\u001b[1;33m\u001b[0m\u001b[0m\n\u001b[0m",
      "\u001b[1;31mModuleNotFoundError\u001b[0m: No module named 'seggradcam'"
     ]
    }
   ],
   "source": [
    "import seggradcam"
   ]
  },
  {
   "cell_type": "code",
   "execution_count": 2,
   "metadata": {},
   "outputs": [
    {
     "ename": "ModuleNotFoundError",
     "evalue": "No module named 'seggradcam'",
     "output_type": "error",
     "traceback": [
      "\u001b[1;31m---------------------------------------------------------------------------\u001b[0m",
      "\u001b[1;31mModuleNotFoundError\u001b[0m                       Traceback (most recent call last)",
      "\u001b[1;32m<ipython-input-2-406cb09b1c7c>\u001b[0m in \u001b[0;36m<module>\u001b[1;34m\u001b[0m\n\u001b[0;32m      4\u001b[0m \u001b[1;32mimport\u001b[0m \u001b[0mos\u001b[0m\u001b[1;33m\u001b[0m\u001b[1;33m\u001b[0m\u001b[0m\n\u001b[0;32m      5\u001b[0m \u001b[1;33m\u001b[0m\u001b[0m\n\u001b[1;32m----> 6\u001b[1;33m \u001b[1;32mfrom\u001b[0m \u001b[0mseggradcam\u001b[0m\u001b[1;33m.\u001b[0m\u001b[0mdataloaders\u001b[0m \u001b[1;32mimport\u001b[0m \u001b[0mCityscapes\u001b[0m\u001b[1;33m\u001b[0m\u001b[1;33m\u001b[0m\u001b[0m\n\u001b[0m\u001b[0;32m      7\u001b[0m \u001b[1;31m#from metrics import iou_coef, dice_coef, dice_loss\u001b[0m\u001b[1;33m\u001b[0m\u001b[1;33m\u001b[0m\u001b[1;33m\u001b[0m\u001b[0m\n\u001b[0;32m      8\u001b[0m \u001b[1;32mfrom\u001b[0m \u001b[0munet\u001b[0m \u001b[1;32mimport\u001b[0m \u001b[0mcsbd_unet\u001b[0m\u001b[1;33m,\u001b[0m \u001b[0mmanual_unet\u001b[0m\u001b[1;33m,\u001b[0m \u001b[0mTrainUnet\u001b[0m\u001b[1;33m\u001b[0m\u001b[1;33m\u001b[0m\u001b[0m\n",
      "\u001b[1;31mModuleNotFoundError\u001b[0m: No module named 'seggradcam'"
     ]
    }
   ],
   "source": [
    "%load_ext autoreload\n",
    "%autoreload 2\n",
    "import numpy as np\n",
    "import os\n",
    "\n",
    "from seggradcam.dataloaders import Cityscapes\n",
    "#from metrics import iou_coef, dice_coef, dice_loss\n",
    "from unet import csbd_unet, manual_unet, TrainUnet\n",
    "from training_write import TrainingParameters, TrainingResults\n",
    "from training_plots import plot_predict_and_gt, plot_loss, plot_metric\n",
    "from seggradcam import SegGradCAM, SuperRoI, ClassRoI, PixelRoI, BiasRoI\n",
    "#import matplotlib.pyplot as plt\n",
    "from visualize_sgc import SegGradCAMplot"
   ]
  },
  {
   "cell_type": "markdown",
   "metadata": {},
   "source": [
    "## 1. Dataset set up"
   ]
  },
  {
   "cell_type": "markdown",
   "metadata": {},
   "source": [
    "## 1.1 A. Prepare dataset"
   ]
  },
  {
   "cell_type": "markdown",
   "metadata": {},
   "source": [
    "## 1.1 B. Load prepared dataset"
   ]
  },
  {
   "cell_type": "markdown",
   "metadata": {},
   "source": [
    "## 1.2. Take a look at the images"
   ]
  },
  {
   "cell_type": "markdown",
   "metadata": {},
   "source": [
    "## 2. U-Net set up"
   ]
  },
  {
   "cell_type": "markdown",
   "metadata": {},
   "source": [
    "## 2.1 A. Train a U-Net yourself "
   ]
  },
  {
   "cell_type": "markdown",
   "metadata": {},
   "source": [
    "### Training plots"
   ]
  },
  {
   "cell_type": "markdown",
   "metadata": {},
   "source": [
    "## 2.1 B. Load a U-Net "
   ]
  },
  {
   "cell_type": "markdown",
   "metadata": {},
   "source": [
    "## 2.2. Take a look at predictions"
   ]
  },
  {
   "cell_type": "markdown",
   "metadata": {},
   "source": [
    "# 3. Seg-Grad-CAM"
   ]
  },
  {
   "cell_type": "markdown",
   "metadata": {},
   "source": [
    "## 3.1 Set up layers for propagation of gradients"
   ]
  },
  {
   "cell_type": "markdown",
   "metadata": {},
   "source": [
    "## 3.2 Choose an image"
   ]
  },
  {
   "cell_type": "markdown",
   "metadata": {},
   "source": [
    "## 3.3 A. Seg-Grad-CAM for a pixel"
   ]
  },
  {
   "cell_type": "markdown",
   "metadata": {},
   "source": [
    "## 3.3 B. Seg-Grad-CAM for the class (all pixels that were predicted as class 'cls')"
   ]
  },
  {
   "cell_type": "markdown",
   "metadata": {},
   "source": [
    "## 3.3 C. Seg-Grad-CAM for a region of interest\n",
    "### 3.3.C.1 for the largest set of connected pixels predicted as 'cls'"
   ]
  },
  {
   "cell_type": "markdown",
   "metadata": {},
   "source": [
    "### 3.3.C.2 for the smallest set of connected pixels predicted as 'cls'"
   ]
  },
  {
   "cell_type": "markdown",
   "metadata": {},
   "source": [
    "### 3.3.C.3 It is also possible to define an arbitrary RoI"
   ]
  }
 ],
 "metadata": {
  "kernelspec": {
   "display_name": "Python 3",
   "language": "python",
   "name": "python3"
  },
  "language_info": {
   "codemirror_mode": {
    "name": "ipython",
    "version": 3
   },
   "file_extension": ".py",
   "mimetype": "text/x-python",
   "name": "python",
   "nbconvert_exporter": "python",
   "pygments_lexer": "ipython3",
   "version": "3.6.7"
  }
 },
 "nbformat": 4,
 "nbformat_minor": 2
}
