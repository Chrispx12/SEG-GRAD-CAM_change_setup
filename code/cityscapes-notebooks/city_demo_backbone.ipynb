{
 "cells": [
  {
   "cell_type": "markdown",
   "metadata": {},
   "source": [
    "# Demonstrate Seg-Grad-CAM on a U-Net with a backbone from 'segmentation_models' trained on Cityscapes"
   ]
  },
  {
   "cell_type": "markdown",
   "metadata": {},
   "source": [
    "## 0. Imports "
   ]
  },
  {
   "cell_type": "code",
   "execution_count": 1,
   "metadata": {
    "scrolled": true
   },
   "outputs": [
    {
     "name": "stderr",
     "output_type": "stream",
     "text": [
      "Using TensorFlow backend.\n"
     ]
    },
    {
     "name": "stdout",
     "output_type": "stream",
     "text": [
      "Segmentation Models: using `keras` framework.\n"
     ]
    }
   ],
   "source": [
    "%load_ext autoreload\n",
    "%autoreload 2\n",
    "import warnings\n",
    "warnings.filterwarnings('ignore')\n",
    "import numpy as np\n",
    "import os\n",
    "os.environ['CUDA_VISIBLE_DEVICES'] = '0'\n",
    "from pathlib import Path\n",
    "import sys\n",
    "import matplotlib.pyplot as plt\n",
    "\n",
    "import segmentation_models as sm\n",
    "\n",
    "from seggradcam.dataloaders import Cityscapes\n",
    "#from metrics import iou_coef, dice_coef, dice_loss\n",
    "from seggradcam.unet import csbd_unet, manual_unet, TrainUnet\n",
    "from seggradcam.training_write import TrainingParameters, TrainingResults\n",
    "from seggradcam.training_plots import plot_predict_and_gt, plot_loss, plot_metric\n",
    "from seggradcam.seggradcam import SegGradCAM, SuperRoI, ClassRoI, PixelRoI, BiasRoI\n",
    "from seggradcam.visualize_sgc import SegGradCAMplot"
   ]
  },
  {
   "cell_type": "markdown",
   "metadata": {},
   "source": [
    "## 1. Dataset set up"
   ]
  },
  {
   "cell_type": "code",
   "execution_count": 2,
   "metadata": {},
   "outputs": [],
   "source": [
    "BATCH_SIZE = 4\n",
    "trainparam = TrainingParameters(\n",
    "    epochs = 50,\n",
    "    scale = 4,\n",
    "    batch_size = BATCH_SIZE, \n",
    "    n_train= 2975, #2975 max\n",
    "    n_val = 500 # 500 max \n",
    "    ,steps_per_epoch = int(3000/BATCH_SIZE)\n",
    "    ,validation_steps = int(500/BATCH_SIZE)   \n",
    "    )\n",
    "trainparam.saveToJson()\n",
    "\n",
    "trainset = Cityscapes(n = trainparam.n_train, shuffle = True, scale = trainparam.scale, prefix = \"train\",normalize=True)\n",
    "valset = Cityscapes(n = trainparam.n_val, shuffle = False, scale = trainparam.scale, prefix = \"val\",normalize=True)"
   ]
  },
  {
   "cell_type": "markdown",
   "metadata": {},
   "source": [
    "## 1.1 A. Prepare dataset"
   ]
  },
  {
   "cell_type": "code",
   "execution_count": 6,
   "metadata": {},
   "outputs": [
    {
     "name": "stdout",
     "output_type": "stream",
     "text": [
      "Root path:  C:\\Users\\vinograd\\Documents\\cityscapes\\leftImg8bit_trainvaltest\\leftImg8bit\\train\n",
      "Length of the set: 2975 .  2975  will be loaded.\n"
     ]
    },
    {
     "name": "stderr",
     "output_type": "stream",
     "text": [
      "100%|██████████████████████████████████████████████████████████████████████████████| 2975/2975 [09:14<00:00,  6.05it/s]\n",
      "100%|██████████████████████████████████████████████████████████████████████████████| 2975/2975 [01:43<00:00, 28.61it/s]\n"
     ]
    },
    {
     "name": "stdout",
     "output_type": "stream",
     "text": [
      "Root path:  C:\\Users\\vinograd\\Documents\\cityscapes\\leftImg8bit_trainvaltest\\leftImg8bit\\val\n",
      "Length of the set: 500 .  500  will be loaded.\n"
     ]
    },
    {
     "name": "stderr",
     "output_type": "stream",
     "text": [
      "100%|████████████████████████████████████████████████████████████████████████████████| 500/500 [02:28<00:00,  5.12it/s]\n",
      "100%|████████████████████████████████████████████████████████████████████████████████| 500/500 [00:18<00:00, 27.35it/s]\n"
     ]
    }
   ],
   "source": [
    "path = \"C:\\\\Users\\\\vinograd\\\\Documents\\\\cityscapes\\\\leftImg8bit_trainvaltest\\\\leftImg8bit\"\n",
    "#path = \"../../inputs/cityscapes/leftImg8bit_trainvaltest/leftImg8bit\"\n",
    "trainset.get_and_save_npz(path)\n",
    "valset.get_and_save_npz(path)"
   ]
  },
  {
   "cell_type": "markdown",
   "metadata": {},
   "source": [
    "## 1.1 B. Load prepared dataset"
   ]
  },
  {
   "cell_type": "code",
   "execution_count": 3,
   "metadata": {},
   "outputs": [],
   "source": [
    "trainset.load_npz()\n",
    "valset.load_npz()"
   ]
  },
  {
   "cell_type": "markdown",
   "metadata": {},
   "source": [
    "## 2. U-Net set up"
   ]
  },
  {
   "cell_type": "code",
   "execution_count": 5,
   "metadata": {},
   "outputs": [],
   "source": [
    "warnings.filterwarnings('ignore')\n",
    "BACKBONE = 'vgg16'\n",
    "preprocess_input = sm.get_preprocessing(BACKBONE)\n",
    "n_classes = trainparam.n_classes\n",
    "activation = 'sigmoid' if n_classes == 1 else 'softmax'\n",
    "#create model\n",
    "model = sm.Unet(BACKBONE, classes=n_classes, activation=activation, encoder_weights='imagenet')"
   ]
  },
  {
   "cell_type": "markdown",
   "metadata": {},
   "source": [
    "## 2.1 A. Train a U-Net yourself "
   ]
  },
  {
   "cell_type": "code",
   "execution_count": 9,
   "metadata": {},
   "outputs": [
    {
     "name": "stdout",
     "output_type": "stream",
     "text": [
      "[WinError 183] Cannot create a file when that file already exists: '../../output/sm_vgg16_09_30_16_14'\n"
     ]
    }
   ],
   "source": [
    "LR = 0.00045\n",
    "EPOCHS = 2 # We recommend training for at least 150\n",
    "\"\"\"\n",
    "# check shapes for errors\n",
    "assert train_dataloader[0][0].shape == (BATCH_SIZE, 320, 320, 3)\n",
    "assert train_dataloader[0][1].shape == (BATCH_SIZE, 320, 320, n_classes)\n",
    "\"\"\"\n",
    "# define callbacks for learning rate scheduling and best checkpoints saving\n",
    "import keras\n",
    "from datetime import datetime\n",
    "timestamp = datetime.now()\n",
    "mdir = '../../output/sm_'+BACKBONE+'_'+str(timestamp.strftime(\"%m_%d_%H_%M\"))\n",
    "try:\n",
    "    os.mkdir(mdir)\n",
    "except OSError as error: \n",
    "    print(error) \n",
    "callbacks = [\n",
    "    keras.callbacks.ModelCheckpoint(mdir+'best_model.h5', save_weights_only=True, save_best_only=True, mode='min'),\n",
    "    keras.callbacks.ReduceLROnPlateau(),\n",
    "]"
   ]
  },
  {
   "cell_type": "code",
   "execution_count": 10,
   "metadata": {},
   "outputs": [
    {
     "name": "stdout",
     "output_type": "stream",
     "text": [
      "WARNING:tensorflow:From C:\\Users\\vinograd\\Anaconda3_12\\envs\\feb20tfclone\\lib\\site-packages\\keras\\optimizers.py:790: The name tf.train.Optimizer is deprecated. Please use tf.compat.v1.train.Optimizer instead.\n",
      "\n"
     ]
    }
   ],
   "source": [
    "optim = keras.optimizers.Adam(LR)\n",
    "\n",
    "dice_loss = sm.losses.DiceLoss()\n",
    "focal_loss = sm.losses.BinaryFocalLoss() if n_classes == 1 else sm.losses.CategoricalFocalLoss()\n",
    "total_loss = dice_loss + (1 * focal_loss)\n",
    "\n",
    "metrics = [sm.metrics.IOUScore(threshold=0.5), sm.metrics.FScore(threshold=0.5)]\n",
    "\n",
    "model.compile(optim, total_loss, metrics)"
   ]
  },
  {
   "cell_type": "code",
   "execution_count": null,
   "metadata": {},
   "outputs": [
    {
     "name": "stdout",
     "output_type": "stream",
     "text": [
      "WARNING:tensorflow:From C:\\Users\\vinograd\\Anaconda3_12\\envs\\feb20tfclone\\lib\\site-packages\\tensorflow\\python\\ops\\math_grad.py:1205: add_dispatch_support.<locals>.wrapper (from tensorflow.python.ops.array_ops) is deprecated and will be removed in a future version.\n",
      "Instructions for updating:\n",
      "Use tf.where in 2.0, which has the same broadcast rule as np.where\n",
      "Epoch 1/2\n"
     ]
    },
    {
     "name": "stdout",
     "output_type": "stream",
     "text": [
      "120/750 [===>..........................] - ETA: 4:49:14 - loss: 0.9501 - iou_score: 0.0131 - f1-score: 0.024 - ETA: 3:42:37 - loss: 0.9367 - iou_score: 0.0190 - f1-score: 0.033 - ETA: 3:23:34 - loss: 0.9280 - iou_score: 0.0277 - f1-score: 0.045 - ETA: 3:11:27 - loss: 0.9200 - iou_score: 0.0297 - f1-score: 0.048 - ETA: 3:04:52 - loss: 0.9111 - iou_score: 0.0323 - f1-score: 0.052 - ETA: 2:51:58 - loss: 0.9051 - iou_score: 0.0328 - f1-score: 0.053 - ETA: 2:41:27 - loss: 0.8976 - iou_score: 0.0370 - f1-score: 0.058 - ETA: 2:33:23 - loss: 0.8932 - iou_score: 0.0372 - f1-score: 0.058 - ETA: 2:27:16 - loss: 0.8874 - iou_score: 0.0395 - f1-score: 0.061 - ETA: 2:22:44 - loss: 0.8813 - iou_score: 0.0420 - f1-score: 0.063 - ETA: 2:19:30 - loss: 0.8760 - iou_score: 0.0441 - f1-score: 0.065 - ETA: 2:16:32 - loss: 0.8706 - iou_score: 0.0453 - f1-score: 0.066 - ETA: 2:13:45 - loss: 0.8650 - iou_score: 0.0470 - f1-score: 0.068 - ETA: 2:11:16 - loss: 0.8613 - iou_score: 0.0482 - f1-score: 0.069 - ETA: 2:08:43 - loss: 0.8580 - iou_score: 0.0487 - f1-score: 0.070 - ETA: 2:06:25 - loss: 0.8548 - iou_score: 0.0496 - f1-score: 0.070 - ETA: 2:04:14 - loss: 0.8513 - iou_score: 0.0507 - f1-score: 0.072 - ETA: 2:02:24 - loss: 0.8484 - iou_score: 0.0520 - f1-score: 0.074 - ETA: 2:01:04 - loss: 0.8455 - iou_score: 0.0538 - f1-score: 0.076 - ETA: 1:59:28 - loss: 0.8421 - iou_score: 0.0578 - f1-score: 0.082 - ETA: 1:58:10 - loss: 0.8385 - iou_score: 0.0632 - f1-score: 0.088 - ETA: 1:57:10 - loss: 0.8353 - iou_score: 0.0684 - f1-score: 0.095 - ETA: 1:55:58 - loss: 0.8323 - iou_score: 0.0730 - f1-score: 0.101 - ETA: 1:54:47 - loss: 0.8289 - iou_score: 0.0776 - f1-score: 0.106 - ETA: 1:53:45 - loss: 0.8254 - iou_score: 0.0821 - f1-score: 0.112 - ETA: 1:52:50 - loss: 0.8226 - iou_score: 0.0854 - f1-score: 0.116 - ETA: 1:51:50 - loss: 0.8200 - iou_score: 0.0888 - f1-score: 0.121 - ETA: 1:50:57 - loss: 0.8180 - iou_score: 0.0917 - f1-score: 0.125 - ETA: 1:50:11 - loss: 0.8160 - iou_score: 0.0951 - f1-score: 0.129 - ETA: 1:49:25 - loss: 0.8134 - iou_score: 0.0987 - f1-score: 0.134 - ETA: 1:48:38 - loss: 0.8104 - iou_score: 0.1028 - f1-score: 0.139 - ETA: 1:47:52 - loss: 0.8078 - iou_score: 0.1063 - f1-score: 0.144 - ETA: 1:47:07 - loss: 0.8050 - iou_score: 0.1100 - f1-score: 0.149 - ETA: 1:46:26 - loss: 0.8021 - iou_score: 0.1138 - f1-score: 0.154 - ETA: 1:45:50 - loss: 0.8008 - iou_score: 0.1158 - f1-score: 0.156 - ETA: 1:45:13 - loss: 0.7984 - iou_score: 0.1187 - f1-score: 0.160 - ETA: 1:44:42 - loss: 0.7969 - iou_score: 0.1207 - f1-score: 0.163 - ETA: 1:44:11 - loss: 0.7963 - iou_score: 0.1220 - f1-score: 0.165 - ETA: 1:43:43 - loss: 0.7947 - iou_score: 0.1243 - f1-score: 0.168 - ETA: 1:43:13 - loss: 0.7941 - iou_score: 0.1257 - f1-score: 0.170 - ETA: 1:42:49 - loss: 0.7917 - iou_score: 0.1286 - f1-score: 0.174 - ETA: 1:42:23 - loss: 0.7903 - iou_score: 0.1305 - f1-score: 0.177 - ETA: 1:41:57 - loss: 0.7877 - iou_score: 0.1337 - f1-score: 0.181 - ETA: 1:41:36 - loss: 0.7859 - iou_score: 0.1363 - f1-score: 0.184 - ETA: 1:41:15 - loss: 0.7844 - iou_score: 0.1383 - f1-score: 0.187 - ETA: 1:40:53 - loss: 0.7833 - iou_score: 0.1399 - f1-score: 0.190 - ETA: 1:40:31 - loss: 0.7818 - iou_score: 0.1421 - f1-score: 0.193 - ETA: 1:40:06 - loss: 0.7799 - iou_score: 0.1445 - f1-score: 0.196 - ETA: 1:39:45 - loss: 0.7778 - iou_score: 0.1471 - f1-score: 0.199 - ETA: 1:39:25 - loss: 0.7766 - iou_score: 0.1490 - f1-score: 0.202 - ETA: 1:39:08 - loss: 0.7748 - iou_score: 0.1509 - f1-score: 0.204 - ETA: 1:38:51 - loss: 0.7738 - iou_score: 0.1525 - f1-score: 0.207 - ETA: 1:38:33 - loss: 0.7721 - iou_score: 0.1544 - f1-score: 0.209 - ETA: 1:38:12 - loss: 0.7706 - iou_score: 0.1561 - f1-score: 0.211 - ETA: 1:37:53 - loss: 0.7689 - iou_score: 0.1581 - f1-score: 0.214 - ETA: 1:37:34 - loss: 0.7674 - iou_score: 0.1600 - f1-score: 0.216 - ETA: 1:37:15 - loss: 0.7659 - iou_score: 0.1618 - f1-score: 0.218 - ETA: 1:37:02 - loss: 0.7646 - iou_score: 0.1631 - f1-score: 0.220 - ETA: 1:36:48 - loss: 0.7632 - iou_score: 0.1648 - f1-score: 0.222 - ETA: 1:36:34 - loss: 0.7619 - iou_score: 0.1662 - f1-score: 0.224 - ETA: 1:36:21 - loss: 0.7608 - iou_score: 0.1674 - f1-score: 0.226 - ETA: 1:36:14 - loss: 0.7607 - iou_score: 0.1676 - f1-score: 0.227 - ETA: 1:36:00 - loss: 0.7593 - iou_score: 0.1691 - f1-score: 0.229 - ETA: 1:35:44 - loss: 0.7583 - iou_score: 0.1702 - f1-score: 0.230 - ETA: 1:35:36 - loss: 0.7572 - iou_score: 0.1713 - f1-score: 0.232 - ETA: 1:35:29 - loss: 0.7559 - iou_score: 0.1726 - f1-score: 0.233 - ETA: 1:35:15 - loss: 0.7553 - iou_score: 0.1737 - f1-score: 0.235 - ETA: 1:35:03 - loss: 0.7547 - iou_score: 0.1746 - f1-score: 0.236 - ETA: 1:34:51 - loss: 0.7535 - iou_score: 0.1761 - f1-score: 0.238 - ETA: 1:34:37 - loss: 0.7521 - iou_score: 0.1776 - f1-score: 0.240 - ETA: 1:34:24 - loss: 0.7511 - iou_score: 0.1786 - f1-score: 0.241 - ETA: 1:34:11 - loss: 0.7496 - iou_score: 0.1805 - f1-score: 0.244 - ETA: 1:33:59 - loss: 0.7487 - iou_score: 0.1814 - f1-score: 0.245 - ETA: 1:33:48 - loss: 0.7477 - iou_score: 0.1824 - f1-score: 0.246 - ETA: 1:33:40 - loss: 0.7465 - iou_score: 0.1837 - f1-score: 0.248 - ETA: 1:33:31 - loss: 0.7458 - iou_score: 0.1846 - f1-score: 0.249 - ETA: 1:33:21 - loss: 0.7442 - iou_score: 0.1862 - f1-score: 0.251 - ETA: 1:33:11 - loss: 0.7431 - iou_score: 0.1873 - f1-score: 0.252 - ETA: 1:32:58 - loss: 0.7420 - iou_score: 0.1885 - f1-score: 0.254 - ETA: 1:32:44 - loss: 0.7411 - iou_score: 0.1894 - f1-score: 0.255 - ETA: 1:32:30 - loss: 0.7399 - iou_score: 0.1907 - f1-score: 0.257 - ETA: 1:32:17 - loss: 0.7394 - iou_score: 0.1913 - f1-score: 0.257 - ETA: 1:32:03 - loss: 0.7385 - iou_score: 0.1922 - f1-score: 0.259 - ETA: 1:31:52 - loss: 0.7373 - iou_score: 0.1935 - f1-score: 0.260 - ETA: 1:31:39 - loss: 0.7358 - iou_score: 0.1950 - f1-score: 0.262 - ETA: 1:31:27 - loss: 0.7343 - iou_score: 0.1967 - f1-score: 0.264 - ETA: 1:31:12 - loss: 0.7331 - iou_score: 0.1982 - f1-score: 0.266 - ETA: 1:30:58 - loss: 0.7324 - iou_score: 0.1992 - f1-score: 0.267 - ETA: 1:30:49 - loss: 0.7318 - iou_score: 0.1998 - f1-score: 0.268 - ETA: 1:30:41 - loss: 0.7309 - iou_score: 0.2006 - f1-score: 0.269 - ETA: 1:30:34 - loss: 0.7306 - iou_score: 0.2009 - f1-score: 0.270 - ETA: 1:30:24 - loss: 0.7296 - iou_score: 0.2019 - f1-score: 0.271 - ETA: 1:30:18 - loss: 0.7286 - iou_score: 0.2029 - f1-score: 0.272 - ETA: 1:30:10 - loss: 0.7285 - iou_score: 0.2031 - f1-score: 0.273 - ETA: 1:29:58 - loss: 0.7273 - iou_score: 0.2043 - f1-score: 0.274 - ETA: 1:29:45 - loss: 0.7265 - iou_score: 0.2051 - f1-score: 0.275 - ETA: 1:29:32 - loss: 0.7257 - iou_score: 0.2059 - f1-score: 0.276 - ETA: 1:29:22 - loss: 0.7246 - iou_score: 0.2069 - f1-score: 0.277 - ETA: 1:29:11 - loss: 0.7232 - iou_score: 0.2082 - f1-score: 0.279 - ETA: 1:28:59 - loss: 0.7224 - iou_score: 0.2088 - f1-score: 0.280 - ETA: 1:28:45 - loss: 0.7215 - iou_score: 0.2095 - f1-score: 0.280 - ETA: 1:28:33 - loss: 0.7202 - iou_score: 0.2108 - f1-score: 0.282 - ETA: 1:28:19 - loss: 0.7192 - iou_score: 0.2119 - f1-score: 0.283 - ETA: 1:28:07 - loss: 0.7182 - iou_score: 0.2128 - f1-score: 0.284 - ETA: 1:27:56 - loss: 0.7168 - iou_score: 0.2143 - f1-score: 0.286 - ETA: 1:27:44 - loss: 0.7157 - iou_score: 0.2153 - f1-score: 0.287 - ETA: 1:27:31 - loss: 0.7149 - iou_score: 0.2160 - f1-score: 0.288 - ETA: 1:27:18 - loss: 0.7142 - iou_score: 0.2167 - f1-score: 0.289 - ETA: 1:27:06 - loss: 0.7134 - iou_score: 0.2175 - f1-score: 0.290 - ETA: 1:26:54 - loss: 0.7129 - iou_score: 0.2180 - f1-score: 0.290 - ETA: 1:26:42 - loss: 0.7124 - iou_score: 0.2184 - f1-score: 0.291 - ETA: 1:26:29 - loss: 0.7121 - iou_score: 0.2187 - f1-score: 0.292 - ETA: 1:26:16 - loss: 0.7116 - iou_score: 0.2191 - f1-score: 0.292 - ETA: 1:26:03 - loss: 0.7104 - iou_score: 0.2204 - f1-score: 0.294 - ETA: 1:25:51 - loss: 0.7101 - iou_score: 0.2209 - f1-score: 0.295 - ETA: 1:25:39 - loss: 0.7095 - iou_score: 0.2215 - f1-score: 0.295 - ETA: 1:25:26 - loss: 0.7094 - iou_score: 0.2217 - f1-score: 0.296 - ETA: 1:25:14 - loss: 0.7083 - iou_score: 0.2227 - f1-score: 0.297 - ETA: 1:25:01 - loss: 0.7079 - iou_score: 0.2230 - f1-score: 0.297 - ETA: 1:24:49 - loss: 0.7070 - iou_score: 0.2238 - f1-score: 0.2990"
     ]
    },
    {
     "name": "stdout",
     "output_type": "stream",
     "text": [
      "240/750 [========>.....................] - ETA: 1:24:37 - loss: 0.7061 - iou_score: 0.2246 - f1-score: 0.300 - ETA: 1:24:25 - loss: 0.7050 - iou_score: 0.2259 - f1-score: 0.301 - ETA: 1:24:14 - loss: 0.7043 - iou_score: 0.2266 - f1-score: 0.302 - ETA: 1:24:02 - loss: 0.7041 - iou_score: 0.2268 - f1-score: 0.303 - ETA: 1:23:50 - loss: 0.7035 - iou_score: 0.2275 - f1-score: 0.304 - ETA: 1:23:40 - loss: 0.7030 - iou_score: 0.2281 - f1-score: 0.304 - ETA: 1:23:28 - loss: 0.7020 - iou_score: 0.2293 - f1-score: 0.306 - ETA: 1:23:16 - loss: 0.7014 - iou_score: 0.2300 - f1-score: 0.307 - ETA: 1:23:08 - loss: 0.7013 - iou_score: 0.2301 - f1-score: 0.307 - ETA: 1:23:00 - loss: 0.7009 - iou_score: 0.2305 - f1-score: 0.307 - ETA: 1:22:50 - loss: 0.6998 - iou_score: 0.2316 - f1-score: 0.309 - ETA: 1:22:40 - loss: 0.6990 - iou_score: 0.2323 - f1-score: 0.310 - ETA: 1:22:31 - loss: 0.6981 - iou_score: 0.2333 - f1-score: 0.311 - ETA: 1:22:21 - loss: 0.6979 - iou_score: 0.2335 - f1-score: 0.311 - ETA: 1:22:10 - loss: 0.6977 - iou_score: 0.2338 - f1-score: 0.312 - ETA: 1:22:00 - loss: 0.6970 - iou_score: 0.2346 - f1-score: 0.313 - ETA: 1:21:50 - loss: 0.6961 - iou_score: 0.2354 - f1-score: 0.314 - ETA: 1:21:39 - loss: 0.6952 - iou_score: 0.2363 - f1-score: 0.315 - ETA: 1:21:30 - loss: 0.6946 - iou_score: 0.2370 - f1-score: 0.316 - ETA: 1:21:20 - loss: 0.6941 - iou_score: 0.2375 - f1-score: 0.316 - ETA: 1:21:09 - loss: 0.6938 - iou_score: 0.2378 - f1-score: 0.317 - ETA: 1:20:58 - loss: 0.6939 - iou_score: 0.2378 - f1-score: 0.317 - ETA: 1:20:48 - loss: 0.6933 - iou_score: 0.2384 - f1-score: 0.318 - ETA: 1:20:37 - loss: 0.6925 - iou_score: 0.2391 - f1-score: 0.319 - ETA: 1:20:27 - loss: 0.6921 - iou_score: 0.2396 - f1-score: 0.319 - ETA: 1:20:16 - loss: 0.6918 - iou_score: 0.2399 - f1-score: 0.320 - ETA: 1:20:05 - loss: 0.6913 - iou_score: 0.2404 - f1-score: 0.320 - ETA: 1:19:55 - loss: 0.6911 - iou_score: 0.2406 - f1-score: 0.321 - ETA: 1:19:44 - loss: 0.6907 - iou_score: 0.2409 - f1-score: 0.321 - ETA: 1:19:33 - loss: 0.6904 - iou_score: 0.2413 - f1-score: 0.322 - ETA: 1:19:25 - loss: 0.6900 - iou_score: 0.2418 - f1-score: 0.322 - ETA: 1:19:15 - loss: 0.6900 - iou_score: 0.2419 - f1-score: 0.323 - ETA: 1:19:06 - loss: 0.6894 - iou_score: 0.2425 - f1-score: 0.323 - ETA: 1:18:56 - loss: 0.6890 - iou_score: 0.2429 - f1-score: 0.324 - ETA: 1:18:46 - loss: 0.6888 - iou_score: 0.2431 - f1-score: 0.324 - ETA: 1:18:36 - loss: 0.6884 - iou_score: 0.2435 - f1-score: 0.325 - ETA: 1:18:26 - loss: 0.6880 - iou_score: 0.2439 - f1-score: 0.326 - ETA: 1:18:16 - loss: 0.6878 - iou_score: 0.2442 - f1-score: 0.326 - ETA: 1:18:06 - loss: 0.6874 - iou_score: 0.2445 - f1-score: 0.326 - ETA: 1:17:56 - loss: 0.6870 - iou_score: 0.2449 - f1-score: 0.327 - ETA: 1:17:47 - loss: 0.6864 - iou_score: 0.2455 - f1-score: 0.328 - ETA: 1:17:38 - loss: 0.6859 - iou_score: 0.2460 - f1-score: 0.328 - ETA: 1:17:28 - loss: 0.6855 - iou_score: 0.2464 - f1-score: 0.329 - ETA: 1:17:19 - loss: 0.6845 - iou_score: 0.2474 - f1-score: 0.330 - ETA: 1:17:10 - loss: 0.6840 - iou_score: 0.2480 - f1-score: 0.331 - ETA: 1:17:00 - loss: 0.6834 - iou_score: 0.2485 - f1-score: 0.332 - ETA: 1:16:51 - loss: 0.6830 - iou_score: 0.2489 - f1-score: 0.332 - ETA: 1:16:41 - loss: 0.6828 - iou_score: 0.2491 - f1-score: 0.332 - ETA: 1:16:31 - loss: 0.6825 - iou_score: 0.2494 - f1-score: 0.333 - ETA: 1:16:21 - loss: 0.6822 - iou_score: 0.2498 - f1-score: 0.333 - ETA: 1:16:12 - loss: 0.6819 - iou_score: 0.2501 - f1-score: 0.334 - ETA: 1:16:02 - loss: 0.6814 - iou_score: 0.2506 - f1-score: 0.335 - ETA: 1:15:54 - loss: 0.6808 - iou_score: 0.2512 - f1-score: 0.335 - ETA: 1:15:45 - loss: 0.6805 - iou_score: 0.2515 - f1-score: 0.336 - ETA: 1:15:37 - loss: 0.6806 - iou_score: 0.2514 - f1-score: 0.336 - ETA: 1:15:31 - loss: 0.6804 - iou_score: 0.2517 - f1-score: 0.336 - ETA: 1:15:24 - loss: 0.6799 - iou_score: 0.2522 - f1-score: 0.337 - ETA: 1:15:15 - loss: 0.6793 - iou_score: 0.2527 - f1-score: 0.337 - ETA: 1:15:06 - loss: 0.6788 - iou_score: 0.2532 - f1-score: 0.338 - ETA: 1:14:57 - loss: 0.6787 - iou_score: 0.2533 - f1-score: 0.338 - ETA: 1:14:48 - loss: 0.6783 - iou_score: 0.2538 - f1-score: 0.339 - ETA: 1:14:39 - loss: 0.6779 - iou_score: 0.2541 - f1-score: 0.339 - ETA: 1:14:30 - loss: 0.6772 - iou_score: 0.2549 - f1-score: 0.340 - ETA: 1:14:21 - loss: 0.6766 - iou_score: 0.2555 - f1-score: 0.341 - ETA: 1:14:12 - loss: 0.6760 - iou_score: 0.2561 - f1-score: 0.341 - ETA: 1:14:03 - loss: 0.6758 - iou_score: 0.2563 - f1-score: 0.342 - ETA: 1:13:55 - loss: 0.6750 - iou_score: 0.2571 - f1-score: 0.343 - ETA: 1:13:46 - loss: 0.6746 - iou_score: 0.2575 - f1-score: 0.343 - ETA: 1:13:38 - loss: 0.6739 - iou_score: 0.2581 - f1-score: 0.344 - ETA: 1:13:29 - loss: 0.6737 - iou_score: 0.2583 - f1-score: 0.344 - ETA: 1:13:21 - loss: 0.6735 - iou_score: 0.2585 - f1-score: 0.344 - ETA: 1:13:12 - loss: 0.6736 - iou_score: 0.2585 - f1-score: 0.344 - ETA: 1:13:03 - loss: 0.6731 - iou_score: 0.2590 - f1-score: 0.345 - ETA: 1:12:56 - loss: 0.6725 - iou_score: 0.2595 - f1-score: 0.346 - ETA: 1:12:49 - loss: 0.6729 - iou_score: 0.2593 - f1-score: 0.345 - ETA: 1:12:41 - loss: 0.6725 - iou_score: 0.2597 - f1-score: 0.346 - ETA: 1:12:32 - loss: 0.6720 - iou_score: 0.2601 - f1-score: 0.346 - ETA: 1:12:25 - loss: 0.6715 - iou_score: 0.2606 - f1-score: 0.347 - ETA: 1:12:17 - loss: 0.6713 - iou_score: 0.2608 - f1-score: 0.347 - ETA: 1:12:10 - loss: 0.6709 - iou_score: 0.2611 - f1-score: 0.348 - ETA: 1:12:02 - loss: 0.6704 - iou_score: 0.2616 - f1-score: 0.348 - ETA: 1:11:54 - loss: 0.6697 - iou_score: 0.2624 - f1-score: 0.349 - ETA: 1:11:46 - loss: 0.6691 - iou_score: 0.2629 - f1-score: 0.350 - ETA: 1:11:39 - loss: 0.6684 - iou_score: 0.2636 - f1-score: 0.351 - ETA: 1:11:31 - loss: 0.6685 - iou_score: 0.2636 - f1-score: 0.351 - ETA: 1:11:23 - loss: 0.6683 - iou_score: 0.2638 - f1-score: 0.351 - ETA: 1:11:14 - loss: 0.6681 - iou_score: 0.2640 - f1-score: 0.351 - ETA: 1:11:05 - loss: 0.6676 - iou_score: 0.2645 - f1-score: 0.352 - ETA: 1:10:56 - loss: 0.6674 - iou_score: 0.2647 - f1-score: 0.352 - ETA: 1:10:48 - loss: 0.6668 - iou_score: 0.2653 - f1-score: 0.353 - ETA: 1:10:39 - loss: 0.6664 - iou_score: 0.2656 - f1-score: 0.353 - ETA: 1:10:31 - loss: 0.6663 - iou_score: 0.2657 - f1-score: 0.353 - ETA: 1:10:22 - loss: 0.6658 - iou_score: 0.2662 - f1-score: 0.354 - ETA: 1:10:13 - loss: 0.6653 - iou_score: 0.2666 - f1-score: 0.354 - ETA: 1:10:05 - loss: 0.6652 - iou_score: 0.2667 - f1-score: 0.355 - ETA: 1:09:58 - loss: 0.6649 - iou_score: 0.2669 - f1-score: 0.355 - ETA: 1:09:50 - loss: 0.6645 - iou_score: 0.2673 - f1-score: 0.355 - ETA: 1:09:42 - loss: 0.6643 - iou_score: 0.2675 - f1-score: 0.356 - ETA: 1:09:33 - loss: 0.6641 - iou_score: 0.2677 - f1-score: 0.356 - ETA: 1:09:25 - loss: 0.6639 - iou_score: 0.2679 - f1-score: 0.356 - ETA: 1:09:16 - loss: 0.6634 - iou_score: 0.2685 - f1-score: 0.357 - ETA: 1:09:08 - loss: 0.6633 - iou_score: 0.2685 - f1-score: 0.357 - ETA: 1:09:00 - loss: 0.6631 - iou_score: 0.2687 - f1-score: 0.357 - ETA: 1:08:51 - loss: 0.6627 - iou_score: 0.2692 - f1-score: 0.358 - ETA: 1:08:43 - loss: 0.6624 - iou_score: 0.2694 - f1-score: 0.358 - ETA: 1:08:35 - loss: 0.6622 - iou_score: 0.2696 - f1-score: 0.358 - ETA: 1:08:26 - loss: 0.6623 - iou_score: 0.2696 - f1-score: 0.358 - ETA: 1:08:18 - loss: 0.6622 - iou_score: 0.2697 - f1-score: 0.359 - ETA: 1:08:09 - loss: 0.6622 - iou_score: 0.2697 - f1-score: 0.359 - ETA: 1:08:01 - loss: 0.6619 - iou_score: 0.2700 - f1-score: 0.359 - ETA: 1:07:53 - loss: 0.6618 - iou_score: 0.2701 - f1-score: 0.359 - ETA: 1:07:45 - loss: 0.6612 - iou_score: 0.2707 - f1-score: 0.360 - ETA: 1:07:36 - loss: 0.6610 - iou_score: 0.2709 - f1-score: 0.360 - ETA: 1:07:27 - loss: 0.6606 - iou_score: 0.2712 - f1-score: 0.361 - ETA: 1:07:19 - loss: 0.6604 - iou_score: 0.2714 - f1-score: 0.361 - ETA: 1:07:10 - loss: 0.6599 - iou_score: 0.2719 - f1-score: 0.361 - ETA: 1:07:01 - loss: 0.6595 - iou_score: 0.2722 - f1-score: 0.362 - ETA: 1:06:53 - loss: 0.6595 - iou_score: 0.2722 - f1-score: 0.362 - ETA: 1:06:44 - loss: 0.6594 - iou_score: 0.2724 - f1-score: 0.362 - ETA: 1:06:35 - loss: 0.6591 - iou_score: 0.2726 - f1-score: 0.3629"
     ]
    },
    {
     "name": "stdout",
     "output_type": "stream",
     "text": [
      "362/750 [=============>................] - ETA: 1:06:26 - loss: 0.6588 - iou_score: 0.2729 - f1-score: 0.363 - ETA: 1:06:18 - loss: 0.6584 - iou_score: 0.2733 - f1-score: 0.363 - ETA: 1:06:10 - loss: 0.6581 - iou_score: 0.2736 - f1-score: 0.364 - ETA: 1:06:01 - loss: 0.6580 - iou_score: 0.2737 - f1-score: 0.364 - ETA: 1:05:53 - loss: 0.6578 - iou_score: 0.2738 - f1-score: 0.364 - ETA: 1:05:45 - loss: 0.6575 - iou_score: 0.2741 - f1-score: 0.364 - ETA: 1:05:36 - loss: 0.6573 - iou_score: 0.2743 - f1-score: 0.365 - ETA: 1:05:28 - loss: 0.6576 - iou_score: 0.2741 - f1-score: 0.364 - ETA: 1:05:20 - loss: 0.6573 - iou_score: 0.2743 - f1-score: 0.365 - ETA: 1:05:11 - loss: 0.6573 - iou_score: 0.2743 - f1-score: 0.365 - ETA: 1:05:03 - loss: 0.6571 - iou_score: 0.2744 - f1-score: 0.365 - ETA: 1:04:54 - loss: 0.6566 - iou_score: 0.2749 - f1-score: 0.366 - ETA: 1:04:46 - loss: 0.6562 - iou_score: 0.2753 - f1-score: 0.366 - ETA: 1:04:38 - loss: 0.6560 - iou_score: 0.2754 - f1-score: 0.366 - ETA: 1:04:31 - loss: 0.6557 - iou_score: 0.2757 - f1-score: 0.367 - ETA: 1:04:22 - loss: 0.6551 - iou_score: 0.2763 - f1-score: 0.367 - ETA: 1:04:15 - loss: 0.6546 - iou_score: 0.2768 - f1-score: 0.368 - ETA: 1:04:09 - loss: 0.6543 - iou_score: 0.2770 - f1-score: 0.368 - ETA: 1:04:02 - loss: 0.6543 - iou_score: 0.2771 - f1-score: 0.368 - ETA: 1:03:54 - loss: 0.6542 - iou_score: 0.2772 - f1-score: 0.368 - ETA: 1:03:47 - loss: 0.6540 - iou_score: 0.2774 - f1-score: 0.369 - ETA: 1:03:39 - loss: 0.6534 - iou_score: 0.2780 - f1-score: 0.369 - ETA: 1:03:31 - loss: 0.6528 - iou_score: 0.2786 - f1-score: 0.370 - ETA: 1:03:23 - loss: 0.6527 - iou_score: 0.2787 - f1-score: 0.370 - ETA: 1:03:16 - loss: 0.6528 - iou_score: 0.2786 - f1-score: 0.370 - ETA: 1:03:08 - loss: 0.6528 - iou_score: 0.2786 - f1-score: 0.370 - ETA: 1:03:01 - loss: 0.6525 - iou_score: 0.2788 - f1-score: 0.371 - ETA: 1:02:53 - loss: 0.6523 - iou_score: 0.2791 - f1-score: 0.371 - ETA: 1:02:45 - loss: 0.6520 - iou_score: 0.2792 - f1-score: 0.371 - ETA: 1:02:37 - loss: 0.6519 - iou_score: 0.2793 - f1-score: 0.371 - ETA: 1:02:29 - loss: 0.6517 - iou_score: 0.2796 - f1-score: 0.372 - ETA: 1:02:21 - loss: 0.6516 - iou_score: 0.2797 - f1-score: 0.372 - ETA: 1:02:12 - loss: 0.6514 - iou_score: 0.2799 - f1-score: 0.372 - ETA: 1:02:04 - loss: 0.6513 - iou_score: 0.2800 - f1-score: 0.372 - ETA: 1:01:56 - loss: 0.6511 - iou_score: 0.2802 - f1-score: 0.372 - ETA: 1:01:48 - loss: 0.6507 - iou_score: 0.2805 - f1-score: 0.373 - ETA: 1:01:39 - loss: 0.6507 - iou_score: 0.2805 - f1-score: 0.373 - ETA: 1:01:31 - loss: 0.6508 - iou_score: 0.2804 - f1-score: 0.373 - ETA: 1:01:23 - loss: 0.6505 - iou_score: 0.2807 - f1-score: 0.373 - ETA: 1:01:14 - loss: 0.6502 - iou_score: 0.2810 - f1-score: 0.373 - ETA: 1:01:05 - loss: 0.6502 - iou_score: 0.2810 - f1-score: 0.373 - ETA: 1:00:57 - loss: 0.6499 - iou_score: 0.2813 - f1-score: 0.374 - ETA: 1:00:48 - loss: 0.6499 - iou_score: 0.2813 - f1-score: 0.374 - ETA: 1:00:40 - loss: 0.6497 - iou_score: 0.2814 - f1-score: 0.374 - ETA: 1:00:31 - loss: 0.6497 - iou_score: 0.2815 - f1-score: 0.374 - ETA: 1:00:23 - loss: 0.6496 - iou_score: 0.2815 - f1-score: 0.374 - ETA: 1:00:16 - loss: 0.6494 - iou_score: 0.2817 - f1-score: 0.375 - ETA: 1:00:08 - loss: 0.6495 - iou_score: 0.2817 - f1-score: 0.375 - ETA: 1:00:00 - loss: 0.6492 - iou_score: 0.2819 - f1-score: 0.375 - ETA: 59:52 - loss: 0.6490 - iou_score: 0.2821 - f1-score: 0.3755  - ETA: 59:44 - loss: 0.6488 - iou_score: 0.2823 - f1-score: 0.375 - ETA: 59:37 - loss: 0.6486 - iou_score: 0.2824 - f1-score: 0.375 - ETA: 59:29 - loss: 0.6484 - iou_score: 0.2825 - f1-score: 0.376 - ETA: 59:21 - loss: 0.6482 - iou_score: 0.2828 - f1-score: 0.376 - ETA: 59:13 - loss: 0.6479 - iou_score: 0.2831 - f1-score: 0.376 - ETA: 59:05 - loss: 0.6478 - iou_score: 0.2832 - f1-score: 0.376 - ETA: 58:56 - loss: 0.6478 - iou_score: 0.2831 - f1-score: 0.376 - ETA: 58:48 - loss: 0.6477 - iou_score: 0.2832 - f1-score: 0.377 - ETA: 58:40 - loss: 0.6476 - iou_score: 0.2833 - f1-score: 0.377 - ETA: 58:32 - loss: 0.6474 - iou_score: 0.2835 - f1-score: 0.377 - ETA: 58:24 - loss: 0.6474 - iou_score: 0.2835 - f1-score: 0.377 - ETA: 58:16 - loss: 0.6472 - iou_score: 0.2837 - f1-score: 0.377 - ETA: 58:07 - loss: 0.6470 - iou_score: 0.2840 - f1-score: 0.378 - ETA: 57:59 - loss: 0.6468 - iou_score: 0.2841 - f1-score: 0.378 - ETA: 57:52 - loss: 0.6465 - iou_score: 0.2844 - f1-score: 0.378 - ETA: 57:44 - loss: 0.6463 - iou_score: 0.2846 - f1-score: 0.378 - ETA: 57:35 - loss: 0.6459 - iou_score: 0.2849 - f1-score: 0.379 - ETA: 57:28 - loss: 0.6459 - iou_score: 0.2850 - f1-score: 0.379 - ETA: 57:20 - loss: 0.6454 - iou_score: 0.2855 - f1-score: 0.379 - ETA: 57:12 - loss: 0.6451 - iou_score: 0.2857 - f1-score: 0.380 - ETA: 57:04 - loss: 0.6447 - iou_score: 0.2861 - f1-score: 0.380 - ETA: 56:55 - loss: 0.6446 - iou_score: 0.2862 - f1-score: 0.380 - ETA: 56:47 - loss: 0.6444 - iou_score: 0.2864 - f1-score: 0.381 - ETA: 56:40 - loss: 0.6441 - iou_score: 0.2867 - f1-score: 0.381 - ETA: 56:31 - loss: 0.6439 - iou_score: 0.2869 - f1-score: 0.381 - ETA: 56:23 - loss: 0.6434 - iou_score: 0.2875 - f1-score: 0.382 - ETA: 56:15 - loss: 0.6430 - iou_score: 0.2878 - f1-score: 0.382 - ETA: 56:07 - loss: 0.6427 - iou_score: 0.2881 - f1-score: 0.383 - ETA: 55:59 - loss: 0.6425 - iou_score: 0.2884 - f1-score: 0.383 - ETA: 55:51 - loss: 0.6420 - iou_score: 0.2888 - f1-score: 0.383 - ETA: 55:43 - loss: 0.6418 - iou_score: 0.2890 - f1-score: 0.384 - ETA: 55:35 - loss: 0.6419 - iou_score: 0.2890 - f1-score: 0.384 - ETA: 55:28 - loss: 0.6416 - iou_score: 0.2892 - f1-score: 0.384 - ETA: 55:20 - loss: 0.6416 - iou_score: 0.2893 - f1-score: 0.384 - ETA: 55:12 - loss: 0.6415 - iou_score: 0.2893 - f1-score: 0.384 - ETA: 55:04 - loss: 0.6416 - iou_score: 0.2892 - f1-score: 0.384 - ETA: 54:56 - loss: 0.6414 - iou_score: 0.2895 - f1-score: 0.384 - ETA: 54:49 - loss: 0.6411 - iou_score: 0.2898 - f1-score: 0.384 - ETA: 54:40 - loss: 0.6409 - iou_score: 0.2899 - f1-score: 0.385 - ETA: 54:32 - loss: 0.6410 - iou_score: 0.2899 - f1-score: 0.385 - ETA: 54:25 - loss: 0.6411 - iou_score: 0.2899 - f1-score: 0.385 - ETA: 54:17 - loss: 0.6412 - iou_score: 0.2897 - f1-score: 0.385 - ETA: 54:09 - loss: 0.6412 - iou_score: 0.2897 - f1-score: 0.385 - ETA: 54:01 - loss: 0.6410 - iou_score: 0.2899 - f1-score: 0.385 - ETA: 53:52 - loss: 0.6407 - iou_score: 0.2902 - f1-score: 0.385 - ETA: 53:44 - loss: 0.6405 - iou_score: 0.2904 - f1-score: 0.385 - ETA: 53:36 - loss: 0.6403 - iou_score: 0.2906 - f1-score: 0.386 - ETA: 53:28 - loss: 0.6398 - iou_score: 0.2910 - f1-score: 0.386 - ETA: 53:20 - loss: 0.6398 - iou_score: 0.2911 - f1-score: 0.386 - ETA: 53:12 - loss: 0.6398 - iou_score: 0.2911 - f1-score: 0.386 - ETA: 53:04 - loss: 0.6395 - iou_score: 0.2914 - f1-score: 0.387 - ETA: 52:56 - loss: 0.6394 - iou_score: 0.2915 - f1-score: 0.387 - ETA: 52:47 - loss: 0.6391 - iou_score: 0.2918 - f1-score: 0.387 - ETA: 52:39 - loss: 0.6390 - iou_score: 0.2918 - f1-score: 0.387 - ETA: 52:31 - loss: 0.6389 - iou_score: 0.2919 - f1-score: 0.387 - ETA: 52:23 - loss: 0.6389 - iou_score: 0.2919 - f1-score: 0.387 - ETA: 52:15 - loss: 0.6387 - iou_score: 0.2921 - f1-score: 0.388 - ETA: 52:07 - loss: 0.6383 - iou_score: 0.2925 - f1-score: 0.388 - ETA: 52:00 - loss: 0.6380 - iou_score: 0.2928 - f1-score: 0.388 - ETA: 51:52 - loss: 0.6378 - iou_score: 0.2929 - f1-score: 0.389 - ETA: 51:44 - loss: 0.6376 - iou_score: 0.2932 - f1-score: 0.389 - ETA: 51:37 - loss: 0.6373 - iou_score: 0.2934 - f1-score: 0.389 - ETA: 51:29 - loss: 0.6374 - iou_score: 0.2934 - f1-score: 0.389 - ETA: 51:21 - loss: 0.6374 - iou_score: 0.2934 - f1-score: 0.389 - ETA: 51:13 - loss: 0.6372 - iou_score: 0.2936 - f1-score: 0.389 - ETA: 51:05 - loss: 0.6370 - iou_score: 0.2937 - f1-score: 0.390 - ETA: 50:57 - loss: 0.6368 - iou_score: 0.2940 - f1-score: 0.390 - ETA: 50:49 - loss: 0.6365 - iou_score: 0.2943 - f1-score: 0.390 - ETA: 50:41 - loss: 0.6365 - iou_score: 0.2943 - f1-score: 0.390 - ETA: 50:33 - loss: 0.6364 - iou_score: 0.2943 - f1-score: 0.390 - ETA: 50:25 - loss: 0.6364 - iou_score: 0.2944 - f1-score: 0.390 - ETA: 50:17 - loss: 0.6364 - iou_score: 0.2944 - f1-score: 0.3910"
     ]
    },
    {
     "name": "stdout",
     "output_type": "stream",
     "text": [
      "486/750 [==================>...........] - ETA: 50:09 - loss: 0.6363 - iou_score: 0.2944 - f1-score: 0.391 - ETA: 50:01 - loss: 0.6362 - iou_score: 0.2946 - f1-score: 0.391 - ETA: 49:53 - loss: 0.6362 - iou_score: 0.2946 - f1-score: 0.391 - ETA: 49:45 - loss: 0.6361 - iou_score: 0.2946 - f1-score: 0.391 - ETA: 49:37 - loss: 0.6360 - iou_score: 0.2947 - f1-score: 0.391 - ETA: 49:29 - loss: 0.6359 - iou_score: 0.2948 - f1-score: 0.391 - ETA: 49:21 - loss: 0.6358 - iou_score: 0.2949 - f1-score: 0.391 - ETA: 49:13 - loss: 0.6357 - iou_score: 0.2950 - f1-score: 0.392 - ETA: 49:05 - loss: 0.6355 - iou_score: 0.2951 - f1-score: 0.392 - ETA: 48:57 - loss: 0.6354 - iou_score: 0.2953 - f1-score: 0.392 - ETA: 48:49 - loss: 0.6353 - iou_score: 0.2954 - f1-score: 0.392 - ETA: 48:41 - loss: 0.6350 - iou_score: 0.2956 - f1-score: 0.392 - ETA: 48:33 - loss: 0.6349 - iou_score: 0.2957 - f1-score: 0.392 - ETA: 48:25 - loss: 0.6350 - iou_score: 0.2956 - f1-score: 0.392 - ETA: 48:17 - loss: 0.6351 - iou_score: 0.2956 - f1-score: 0.392 - ETA: 48:09 - loss: 0.6350 - iou_score: 0.2957 - f1-score: 0.393 - ETA: 48:01 - loss: 0.6349 - iou_score: 0.2958 - f1-score: 0.393 - ETA: 47:53 - loss: 0.6347 - iou_score: 0.2960 - f1-score: 0.393 - ETA: 47:45 - loss: 0.6346 - iou_score: 0.2960 - f1-score: 0.393 - ETA: 47:37 - loss: 0.6347 - iou_score: 0.2960 - f1-score: 0.393 - ETA: 47:30 - loss: 0.6344 - iou_score: 0.2963 - f1-score: 0.393 - ETA: 47:22 - loss: 0.6342 - iou_score: 0.2964 - f1-score: 0.393 - ETA: 47:15 - loss: 0.6343 - iou_score: 0.2964 - f1-score: 0.393 - ETA: 47:08 - loss: 0.6342 - iou_score: 0.2964 - f1-score: 0.394 - ETA: 47:00 - loss: 0.6340 - iou_score: 0.2967 - f1-score: 0.394 - ETA: 46:52 - loss: 0.6343 - iou_score: 0.2965 - f1-score: 0.394 - ETA: 46:45 - loss: 0.6341 - iou_score: 0.2966 - f1-score: 0.394 - ETA: 46:37 - loss: 0.6339 - iou_score: 0.2968 - f1-score: 0.394 - ETA: 46:29 - loss: 0.6336 - iou_score: 0.2971 - f1-score: 0.394 - ETA: 46:22 - loss: 0.6333 - iou_score: 0.2973 - f1-score: 0.395 - ETA: 46:14 - loss: 0.6331 - iou_score: 0.2976 - f1-score: 0.395 - ETA: 46:06 - loss: 0.6329 - iou_score: 0.2978 - f1-score: 0.395 - ETA: 45:58 - loss: 0.6327 - iou_score: 0.2980 - f1-score: 0.395 - ETA: 45:50 - loss: 0.6326 - iou_score: 0.2981 - f1-score: 0.396 - ETA: 45:42 - loss: 0.6324 - iou_score: 0.2983 - f1-score: 0.396 - ETA: 45:34 - loss: 0.6321 - iou_score: 0.2986 - f1-score: 0.396 - ETA: 45:26 - loss: 0.6321 - iou_score: 0.2987 - f1-score: 0.396 - ETA: 45:18 - loss: 0.6321 - iou_score: 0.2987 - f1-score: 0.396 - ETA: 45:10 - loss: 0.6322 - iou_score: 0.2986 - f1-score: 0.396 - ETA: 45:02 - loss: 0.6320 - iou_score: 0.2987 - f1-score: 0.396 - ETA: 44:54 - loss: 0.6319 - iou_score: 0.2988 - f1-score: 0.396 - ETA: 44:46 - loss: 0.6318 - iou_score: 0.2989 - f1-score: 0.397 - ETA: 44:38 - loss: 0.6318 - iou_score: 0.2990 - f1-score: 0.397 - ETA: 44:30 - loss: 0.6318 - iou_score: 0.2989 - f1-score: 0.397 - ETA: 44:22 - loss: 0.6318 - iou_score: 0.2990 - f1-score: 0.397 - ETA: 44:14 - loss: 0.6317 - iou_score: 0.2990 - f1-score: 0.397 - ETA: 44:06 - loss: 0.6316 - iou_score: 0.2992 - f1-score: 0.397 - ETA: 43:58 - loss: 0.6315 - iou_score: 0.2993 - f1-score: 0.397 - ETA: 43:50 - loss: 0.6313 - iou_score: 0.2995 - f1-score: 0.397 - ETA: 43:42 - loss: 0.6312 - iou_score: 0.2996 - f1-score: 0.398 - ETA: 43:34 - loss: 0.6310 - iou_score: 0.2998 - f1-score: 0.398 - ETA: 43:26 - loss: 0.6308 - iou_score: 0.3000 - f1-score: 0.398 - ETA: 43:18 - loss: 0.6307 - iou_score: 0.3001 - f1-score: 0.398 - ETA: 43:10 - loss: 0.6305 - iou_score: 0.3002 - f1-score: 0.398 - ETA: 43:02 - loss: 0.6306 - iou_score: 0.3002 - f1-score: 0.398 - ETA: 42:55 - loss: 0.6305 - iou_score: 0.3003 - f1-score: 0.398 - ETA: 42:47 - loss: 0.6304 - iou_score: 0.3003 - f1-score: 0.399 - ETA: 42:40 - loss: 0.6302 - iou_score: 0.3006 - f1-score: 0.399 - ETA: 42:32 - loss: 0.6300 - iou_score: 0.3008 - f1-score: 0.399 - ETA: 42:24 - loss: 0.6298 - iou_score: 0.3009 - f1-score: 0.399 - ETA: 42:16 - loss: 0.6298 - iou_score: 0.3010 - f1-score: 0.399 - ETA: 42:08 - loss: 0.6296 - iou_score: 0.3011 - f1-score: 0.399 - ETA: 42:00 - loss: 0.6296 - iou_score: 0.3011 - f1-score: 0.399 - ETA: 41:52 - loss: 0.6294 - iou_score: 0.3014 - f1-score: 0.400 - ETA: 41:44 - loss: 0.6292 - iou_score: 0.3015 - f1-score: 0.400 - ETA: 41:36 - loss: 0.6291 - iou_score: 0.3016 - f1-score: 0.400 - ETA: 41:28 - loss: 0.6289 - iou_score: 0.3018 - f1-score: 0.400 - ETA: 41:20 - loss: 0.6287 - iou_score: 0.3019 - f1-score: 0.401 - ETA: 41:13 - loss: 0.6287 - iou_score: 0.3020 - f1-score: 0.401 - ETA: 41:05 - loss: 0.6286 - iou_score: 0.3021 - f1-score: 0.401 - ETA: 40:57 - loss: 0.6288 - iou_score: 0.3020 - f1-score: 0.401 - ETA: 40:49 - loss: 0.6287 - iou_score: 0.3020 - f1-score: 0.401 - ETA: 40:42 - loss: 0.6285 - iou_score: 0.3022 - f1-score: 0.401 - ETA: 40:34 - loss: 0.6284 - iou_score: 0.3023 - f1-score: 0.401 - ETA: 40:26 - loss: 0.6281 - iou_score: 0.3026 - f1-score: 0.401 - ETA: 40:18 - loss: 0.6281 - iou_score: 0.3026 - f1-score: 0.401 - ETA: 40:11 - loss: 0.6282 - iou_score: 0.3025 - f1-score: 0.401 - ETA: 40:03 - loss: 0.6280 - iou_score: 0.3027 - f1-score: 0.401 - ETA: 39:55 - loss: 0.6279 - iou_score: 0.3028 - f1-score: 0.402 - ETA: 39:47 - loss: 0.6279 - iou_score: 0.3028 - f1-score: 0.402 - ETA: 39:39 - loss: 0.6277 - iou_score: 0.3030 - f1-score: 0.402 - ETA: 39:31 - loss: 0.6276 - iou_score: 0.3030 - f1-score: 0.402 - ETA: 39:23 - loss: 0.6276 - iou_score: 0.3031 - f1-score: 0.402 - ETA: 39:15 - loss: 0.6273 - iou_score: 0.3034 - f1-score: 0.402 - ETA: 39:07 - loss: 0.6272 - iou_score: 0.3034 - f1-score: 0.402 - ETA: 38:59 - loss: 0.6273 - iou_score: 0.3034 - f1-score: 0.402 - ETA: 38:51 - loss: 0.6271 - iou_score: 0.3035 - f1-score: 0.402 - ETA: 38:44 - loss: 0.6271 - iou_score: 0.3034 - f1-score: 0.402 - ETA: 38:36 - loss: 0.6270 - iou_score: 0.3036 - f1-score: 0.403 - ETA: 38:29 - loss: 0.6269 - iou_score: 0.3036 - f1-score: 0.403 - ETA: 38:21 - loss: 0.6268 - iou_score: 0.3037 - f1-score: 0.403 - ETA: 38:13 - loss: 0.6269 - iou_score: 0.3037 - f1-score: 0.403 - ETA: 38:05 - loss: 0.6267 - iou_score: 0.3038 - f1-score: 0.403 - ETA: 37:58 - loss: 0.6266 - iou_score: 0.3039 - f1-score: 0.403 - ETA: 37:50 - loss: 0.6266 - iou_score: 0.3039 - f1-score: 0.403 - ETA: 37:42 - loss: 0.6265 - iou_score: 0.3040 - f1-score: 0.403 - ETA: 37:34 - loss: 0.6263 - iou_score: 0.3042 - f1-score: 0.403 - ETA: 37:26 - loss: 0.6263 - iou_score: 0.3042 - f1-score: 0.403 - ETA: 37:19 - loss: 0.6263 - iou_score: 0.3043 - f1-score: 0.404 - ETA: 37:11 - loss: 0.6262 - iou_score: 0.3043 - f1-score: 0.404 - ETA: 37:03 - loss: 0.6262 - iou_score: 0.3043 - f1-score: 0.404 - ETA: 36:55 - loss: 0.6265 - iou_score: 0.3041 - f1-score: 0.403 - ETA: 36:47 - loss: 0.6263 - iou_score: 0.3043 - f1-score: 0.404 - ETA: 36:39 - loss: 0.6264 - iou_score: 0.3042 - f1-score: 0.404 - ETA: 36:31 - loss: 0.6262 - iou_score: 0.3044 - f1-score: 0.404 - ETA: 36:23 - loss: 0.6260 - iou_score: 0.3045 - f1-score: 0.404 - ETA: 36:15 - loss: 0.6261 - iou_score: 0.3045 - f1-score: 0.404 - ETA: 36:07 - loss: 0.6262 - iou_score: 0.3044 - f1-score: 0.404 - ETA: 35:59 - loss: 0.6261 - iou_score: 0.3045 - f1-score: 0.404 - ETA: 35:51 - loss: 0.6259 - iou_score: 0.3047 - f1-score: 0.404 - ETA: 35:43 - loss: 0.6259 - iou_score: 0.3047 - f1-score: 0.404 - ETA: 35:36 - loss: 0.6258 - iou_score: 0.3048 - f1-score: 0.404 - ETA: 35:28 - loss: 0.6256 - iou_score: 0.3050 - f1-score: 0.405 - ETA: 35:20 - loss: 0.6256 - iou_score: 0.3050 - f1-score: 0.405 - ETA: 35:12 - loss: 0.6254 - iou_score: 0.3052 - f1-score: 0.405 - ETA: 35:04 - loss: 0.6253 - iou_score: 0.3053 - f1-score: 0.405 - ETA: 34:56 - loss: 0.6254 - iou_score: 0.3051 - f1-score: 0.405 - ETA: 34:48 - loss: 0.6253 - iou_score: 0.3052 - f1-score: 0.405 - ETA: 34:40 - loss: 0.6254 - iou_score: 0.3052 - f1-score: 0.405 - ETA: 34:32 - loss: 0.6253 - iou_score: 0.3053 - f1-score: 0.405 - ETA: 34:24 - loss: 0.6253 - iou_score: 0.3053 - f1-score: 0.405 - ETA: 34:16 - loss: 0.6252 - iou_score: 0.3054 - f1-score: 0.405 - ETA: 34:08 - loss: 0.6251 - iou_score: 0.3054 - f1-score: 0.405 - ETA: 34:00 - loss: 0.6251 - iou_score: 0.3054 - f1-score: 0.4058"
     ]
    },
    {
     "name": "stdout",
     "output_type": "stream",
     "text": [
      "610/750 [=======================>......] - ETA: 33:52 - loss: 0.6251 - iou_score: 0.3055 - f1-score: 0.405 - ETA: 33:45 - loss: 0.6250 - iou_score: 0.3055 - f1-score: 0.405 - ETA: 33:37 - loss: 0.6249 - iou_score: 0.3056 - f1-score: 0.406 - ETA: 33:29 - loss: 0.6250 - iou_score: 0.3055 - f1-score: 0.406 - ETA: 33:21 - loss: 0.6249 - iou_score: 0.3056 - f1-score: 0.406 - ETA: 33:13 - loss: 0.6247 - iou_score: 0.3058 - f1-score: 0.406 - ETA: 33:05 - loss: 0.6248 - iou_score: 0.3058 - f1-score: 0.406 - ETA: 32:58 - loss: 0.6247 - iou_score: 0.3059 - f1-score: 0.406 - ETA: 32:50 - loss: 0.6247 - iou_score: 0.3059 - f1-score: 0.406 - ETA: 32:42 - loss: 0.6245 - iou_score: 0.3061 - f1-score: 0.406 - ETA: 32:34 - loss: 0.6245 - iou_score: 0.3060 - f1-score: 0.406 - ETA: 32:26 - loss: 0.6246 - iou_score: 0.3060 - f1-score: 0.406 - ETA: 32:18 - loss: 0.6246 - iou_score: 0.3061 - f1-score: 0.406 - ETA: 32:11 - loss: 0.6246 - iou_score: 0.3060 - f1-score: 0.406 - ETA: 32:03 - loss: 0.6246 - iou_score: 0.3060 - f1-score: 0.406 - ETA: 31:55 - loss: 0.6245 - iou_score: 0.3061 - f1-score: 0.406 - ETA: 31:47 - loss: 0.6246 - iou_score: 0.3060 - f1-score: 0.406 - ETA: 31:39 - loss: 0.6244 - iou_score: 0.3063 - f1-score: 0.407 - ETA: 31:31 - loss: 0.6242 - iou_score: 0.3065 - f1-score: 0.407 - ETA: 31:24 - loss: 0.6242 - iou_score: 0.3065 - f1-score: 0.407 - ETA: 31:16 - loss: 0.6240 - iou_score: 0.3067 - f1-score: 0.407 - ETA: 31:08 - loss: 0.6240 - iou_score: 0.3067 - f1-score: 0.407 - ETA: 31:00 - loss: 0.6242 - iou_score: 0.3065 - f1-score: 0.407 - ETA: 30:52 - loss: 0.6243 - iou_score: 0.3064 - f1-score: 0.407 - ETA: 30:44 - loss: 0.6242 - iou_score: 0.3066 - f1-score: 0.407 - ETA: 30:37 - loss: 0.6243 - iou_score: 0.3065 - f1-score: 0.407 - ETA: 30:29 - loss: 0.6242 - iou_score: 0.3066 - f1-score: 0.407 - ETA: 30:21 - loss: 0.6240 - iou_score: 0.3067 - f1-score: 0.407 - ETA: 30:14 - loss: 0.6240 - iou_score: 0.3068 - f1-score: 0.407 - ETA: 30:06 - loss: 0.6240 - iou_score: 0.3068 - f1-score: 0.407 - ETA: 29:58 - loss: 0.6241 - iou_score: 0.3067 - f1-score: 0.407 - ETA: 29:51 - loss: 0.6242 - iou_score: 0.3067 - f1-score: 0.407 - ETA: 29:43 - loss: 0.6240 - iou_score: 0.3068 - f1-score: 0.407 - ETA: 29:35 - loss: 0.6240 - iou_score: 0.3068 - f1-score: 0.407 - ETA: 29:28 - loss: 0.6240 - iou_score: 0.3068 - f1-score: 0.407 - ETA: 29:20 - loss: 0.6240 - iou_score: 0.3068 - f1-score: 0.407 - ETA: 29:12 - loss: 0.6241 - iou_score: 0.3068 - f1-score: 0.407 - ETA: 29:04 - loss: 0.6242 - iou_score: 0.3067 - f1-score: 0.407 - ETA: 28:56 - loss: 0.6241 - iou_score: 0.3067 - f1-score: 0.407 - ETA: 28:49 - loss: 0.6241 - iou_score: 0.3068 - f1-score: 0.407 - ETA: 28:41 - loss: 0.6240 - iou_score: 0.3068 - f1-score: 0.407 - ETA: 28:33 - loss: 0.6238 - iou_score: 0.3070 - f1-score: 0.408 - ETA: 28:25 - loss: 0.6237 - iou_score: 0.3071 - f1-score: 0.408 - ETA: 28:17 - loss: 0.6237 - iou_score: 0.3071 - f1-score: 0.408 - ETA: 28:10 - loss: 0.6235 - iou_score: 0.3073 - f1-score: 0.408 - ETA: 28:02 - loss: 0.6235 - iou_score: 0.3073 - f1-score: 0.408 - ETA: 27:54 - loss: 0.6235 - iou_score: 0.3073 - f1-score: 0.408 - ETA: 27:46 - loss: 0.6234 - iou_score: 0.3074 - f1-score: 0.408 - ETA: 27:38 - loss: 0.6234 - iou_score: 0.3074 - f1-score: 0.408 - ETA: 27:30 - loss: 0.6233 - iou_score: 0.3075 - f1-score: 0.408 - ETA: 27:23 - loss: 0.6232 - iou_score: 0.3076 - f1-score: 0.408 - ETA: 27:15 - loss: 0.6232 - iou_score: 0.3076 - f1-score: 0.408 - ETA: 27:07 - loss: 0.6231 - iou_score: 0.3076 - f1-score: 0.408 - ETA: 26:59 - loss: 0.6231 - iou_score: 0.3077 - f1-score: 0.408 - ETA: 26:51 - loss: 0.6230 - iou_score: 0.3078 - f1-score: 0.409 - ETA: 26:44 - loss: 0.6230 - iou_score: 0.3078 - f1-score: 0.409 - ETA: 26:36 - loss: 0.6229 - iou_score: 0.3078 - f1-score: 0.409 - ETA: 26:28 - loss: 0.6229 - iou_score: 0.3079 - f1-score: 0.409 - ETA: 26:20 - loss: 0.6228 - iou_score: 0.3079 - f1-score: 0.409 - ETA: 26:12 - loss: 0.6228 - iou_score: 0.3080 - f1-score: 0.409 - ETA: 26:04 - loss: 0.6227 - iou_score: 0.3081 - f1-score: 0.409 - ETA: 25:57 - loss: 0.6228 - iou_score: 0.3080 - f1-score: 0.409 - ETA: 25:49 - loss: 0.6227 - iou_score: 0.3081 - f1-score: 0.409 - ETA: 25:41 - loss: 0.6226 - iou_score: 0.3081 - f1-score: 0.409 - ETA: 25:33 - loss: 0.6226 - iou_score: 0.3082 - f1-score: 0.409 - ETA: 25:25 - loss: 0.6225 - iou_score: 0.3082 - f1-score: 0.409 - ETA: 25:17 - loss: 0.6224 - iou_score: 0.3083 - f1-score: 0.409 - ETA: 25:10 - loss: 0.6223 - iou_score: 0.3084 - f1-score: 0.409 - ETA: 25:02 - loss: 0.6222 - iou_score: 0.3085 - f1-score: 0.410 - ETA: 24:54 - loss: 0.6222 - iou_score: 0.3085 - f1-score: 0.410 - ETA: 24:46 - loss: 0.6223 - iou_score: 0.3085 - f1-score: 0.410 - ETA: 24:38 - loss: 0.6222 - iou_score: 0.3085 - f1-score: 0.410 - ETA: 24:31 - loss: 0.6222 - iou_score: 0.3085 - f1-score: 0.410 - ETA: 24:23 - loss: 0.6222 - iou_score: 0.3085 - f1-score: 0.410 - ETA: 24:15 - loss: 0.6222 - iou_score: 0.3085 - f1-score: 0.410 - ETA: 24:07 - loss: 0.6222 - iou_score: 0.3085 - f1-score: 0.410 - ETA: 23:59 - loss: 0.6222 - iou_score: 0.3085 - f1-score: 0.410 - ETA: 23:52 - loss: 0.6222 - iou_score: 0.3085 - f1-score: 0.410 - ETA: 23:44 - loss: 0.6222 - iou_score: 0.3086 - f1-score: 0.410 - ETA: 23:36 - loss: 0.6220 - iou_score: 0.3087 - f1-score: 0.410 - ETA: 23:28 - loss: 0.6220 - iou_score: 0.3087 - f1-score: 0.410 - ETA: 23:21 - loss: 0.6220 - iou_score: 0.3088 - f1-score: 0.410 - ETA: 23:13 - loss: 0.6220 - iou_score: 0.3088 - f1-score: 0.410 - ETA: 23:05 - loss: 0.6219 - iou_score: 0.3088 - f1-score: 0.410 - ETA: 22:57 - loss: 0.6217 - iou_score: 0.3090 - f1-score: 0.410 - ETA: 22:50 - loss: 0.6217 - iou_score: 0.3091 - f1-score: 0.410 - ETA: 22:42 - loss: 0.6216 - iou_score: 0.3092 - f1-score: 0.410 - ETA: 22:34 - loss: 0.6215 - iou_score: 0.3092 - f1-score: 0.411 - ETA: 22:26 - loss: 0.6215 - iou_score: 0.3092 - f1-score: 0.411 - ETA: 22:19 - loss: 0.6217 - iou_score: 0.3091 - f1-score: 0.410 - ETA: 22:11 - loss: 0.6215 - iou_score: 0.3092 - f1-score: 0.411 - ETA: 22:03 - loss: 0.6214 - iou_score: 0.3094 - f1-score: 0.411 - ETA: 21:55 - loss: 0.6213 - iou_score: 0.3095 - f1-score: 0.411 - ETA: 21:48 - loss: 0.6213 - iou_score: 0.3095 - f1-score: 0.411 - ETA: 21:40 - loss: 0.6213 - iou_score: 0.3095 - f1-score: 0.411 - ETA: 21:33 - loss: 0.6213 - iou_score: 0.3095 - f1-score: 0.411 - ETA: 21:25 - loss: 0.6211 - iou_score: 0.3097 - f1-score: 0.411 - ETA: 21:18 - loss: 0.6210 - iou_score: 0.3097 - f1-score: 0.411 - ETA: 21:10 - loss: 0.6210 - iou_score: 0.3098 - f1-score: 0.411 - ETA: 21:02 - loss: 0.6210 - iou_score: 0.3098 - f1-score: 0.411 - ETA: 20:55 - loss: 0.6210 - iou_score: 0.3098 - f1-score: 0.411 - ETA: 20:47 - loss: 0.6209 - iou_score: 0.3099 - f1-score: 0.411 - ETA: 20:39 - loss: 0.6209 - iou_score: 0.3098 - f1-score: 0.411 - ETA: 20:32 - loss: 0.6211 - iou_score: 0.3097 - f1-score: 0.411 - ETA: 20:24 - loss: 0.6210 - iou_score: 0.3098 - f1-score: 0.411 - ETA: 20:16 - loss: 0.6209 - iou_score: 0.3099 - f1-score: 0.411 - ETA: 20:08 - loss: 0.6209 - iou_score: 0.3099 - f1-score: 0.411 - ETA: 20:01 - loss: 0.6208 - iou_score: 0.3100 - f1-score: 0.412 - ETA: 19:53 - loss: 0.6206 - iou_score: 0.3102 - f1-score: 0.412 - ETA: 19:45 - loss: 0.6205 - iou_score: 0.3103 - f1-score: 0.412 - ETA: 19:37 - loss: 0.6204 - iou_score: 0.3104 - f1-score: 0.412 - ETA: 19:29 - loss: 0.6202 - iou_score: 0.3105 - f1-score: 0.412 - ETA: 19:22 - loss: 0.6201 - iou_score: 0.3106 - f1-score: 0.412 - ETA: 19:14 - loss: 0.6201 - iou_score: 0.3106 - f1-score: 0.412 - ETA: 19:06 - loss: 0.6200 - iou_score: 0.3107 - f1-score: 0.412 - ETA: 18:58 - loss: 0.6199 - iou_score: 0.3109 - f1-score: 0.413 - ETA: 18:51 - loss: 0.6198 - iou_score: 0.3109 - f1-score: 0.413 - ETA: 18:43 - loss: 0.6197 - iou_score: 0.3110 - f1-score: 0.413 - ETA: 18:35 - loss: 0.6198 - iou_score: 0.3109 - f1-score: 0.413 - ETA: 18:27 - loss: 0.6196 - iou_score: 0.3111 - f1-score: 0.413 - ETA: 18:20 - loss: 0.6195 - iou_score: 0.3112 - f1-score: 0.413 - ETA: 18:12 - loss: 0.6194 - iou_score: 0.3113 - f1-score: 0.413 - ETA: 18:04 - loss: 0.6194 - iou_score: 0.3113 - f1-score: 0.413 - ETA: 17:57 - loss: 0.6192 - iou_score: 0.3115 - f1-score: 0.4138"
     ]
    },
    {
     "name": "stdout",
     "output_type": "stream",
     "text": [
      "622/750 [=======================>......] - ETA: 17:49 - loss: 0.6191 - iou_score: 0.3116 - f1-score: 0.413 - ETA: 17:41 - loss: 0.6190 - iou_score: 0.3117 - f1-score: 0.414 - ETA: 17:33 - loss: 0.6189 - iou_score: 0.3118 - f1-score: 0.414 - ETA: 17:26 - loss: 0.6189 - iou_score: 0.3117 - f1-score: 0.414 - ETA: 17:18 - loss: 0.6189 - iou_score: 0.3118 - f1-score: 0.414 - ETA: 17:10 - loss: 0.6188 - iou_score: 0.3118 - f1-score: 0.414 - ETA: 17:03 - loss: 0.6188 - iou_score: 0.3119 - f1-score: 0.414 - ETA: 16:55 - loss: 0.6186 - iou_score: 0.3120 - f1-score: 0.414 - ETA: 16:47 - loss: 0.6186 - iou_score: 0.3120 - f1-score: 0.414 - ETA: 16:39 - loss: 0.6186 - iou_score: 0.3121 - f1-score: 0.414 - ETA: 16:32 - loss: 0.6185 - iou_score: 0.3121 - f1-score: 0.414 - ETA: 16:24 - loss: 0.6184 - iou_score: 0.3122 - f1-score: 0.4147"
     ]
    }
   ],
   "source": [
    "from keras.preprocessing.image import ImageDataGenerator\n",
    "\n",
    "datagen = ImageDataGenerator(\n",
    "            rescale=1. / 255,\n",
    "            # brightness_range = (.8,1.2),\n",
    "            horizontal_flip=True)\n",
    "train_input = datagen.flow(trainset.X, trainset.Y, batch_size=BATCH_SIZE)\n",
    "val_input = datagen.flow(valset.X, valset.Y, batch_size=BATCH_SIZE) \n",
    "\n",
    "history = model.fit_generator(train_input,\n",
    "                                      validation_data=val_input,\n",
    "                                      epochs=EPOCHS,\n",
    "                                      steps_per_epoch=trainparam.steps_per_epoch,\n",
    "                                      validation_steps=trainparam.validation_steps,\n",
    "                                      callbacks=callbacks)"
   ]
  },
  {
   "cell_type": "markdown",
   "metadata": {},
   "source": [
    "### Training plots"
   ]
  },
  {
   "cell_type": "code",
   "execution_count": null,
   "metadata": {},
   "outputs": [],
   "source": [
    "# Plot training & validation iou_score values\n",
    "plt.figure(figsize=(30, 5))\n",
    "plt.subplot(121)\n",
    "plt.plot(history.history['iou_score'])\n",
    "plt.plot(history.history['val_iou_score'])\n",
    "plt.plot(history.history['f1-score'])\n",
    "plt.plot(history.history['val_f1-score'])\n",
    "plt.title('Model IoU & F1 scores')\n",
    "plt.ylabel('Score')\n",
    "plt.xlabel('Epoch')\n",
    "plt.legend(['Train IoU', 'Val IoU','Train F1','Val F1'], loc='upper left')\n",
    "\n",
    "# Plot training & validation loss values\n",
    "plt.subplot(122)\n",
    "plt.plot(history.history['loss'])\n",
    "plt.plot(history.history['val_loss'])\n",
    "plt.title('Model loss')\n",
    "plt.ylabel('Loss')\n",
    "plt.xlabel('Epoch')\n",
    "plt.legend(['Train', 'Val'], loc='upper left')\n",
    "plt.savefig(mdir+'iou_f1_loss.png')"
   ]
  },
  {
   "cell_type": "markdown",
   "metadata": {},
   "source": [
    "## 2.1 B. Load a U-Net "
   ]
  },
  {
   "cell_type": "code",
   "execution_count": null,
   "metadata": {},
   "outputs": [],
   "source": [
    "mdir = '../../output/unet_backbone_16_07/'\n",
    "model.load_weights(mdir+'best_model.h5')"
   ]
  },
  {
   "cell_type": "markdown",
   "metadata": {},
   "source": [
    "## 2.2. Take a look at predictions"
   ]
  },
  {
   "cell_type": "code",
   "execution_count": null,
   "metadata": {},
   "outputs": [],
   "source": [
    "plot_predict_and_gt(model, valset.X, valset.Y, range(0,10,1), mdir, n_classes)"
   ]
  },
  {
   "cell_type": "markdown",
   "metadata": {},
   "source": [
    "# 3. Seg-Grad-CAM"
   ]
  },
  {
   "cell_type": "markdown",
   "metadata": {},
   "source": [
    "## 3.1 Set up layers for propagation of gradients"
   ]
  },
  {
   "cell_type": "code",
   "execution_count": null,
   "metadata": {},
   "outputs": [],
   "source": [
    "prop_from_layer = model.layers[-1].name\n",
    "prop_to_layer = 'center_block1_relu'\n",
    "# We recommend to try also:\n",
    "#prop_to_layer = 'center_block2_relu'"
   ]
  },
  {
   "cell_type": "markdown",
   "metadata": {},
   "source": [
    "## 3.2 Choose an image"
   ]
  },
  {
   "cell_type": "code",
   "execution_count": null,
   "metadata": {},
   "outputs": [],
   "source": [
    "cls = 7 # car\n",
    "imid = 3\n",
    "image =  valset.X[imid]"
   ]
  },
  {
   "cell_type": "markdown",
   "metadata": {},
   "source": [
    "## 3.3 A. Seg-Grad-CAM for a pixel"
   ]
  },
  {
   "cell_type": "code",
   "execution_count": null,
   "metadata": {},
   "outputs": [],
   "source": [
    "# create a SegGradCAM object\n",
    "roi=PixelRoI(500,600,image)\n",
    "pixsgc = SegGradCAM(trainunet.model, image, cls,  prop_to_layer,prop_from_layer, roi=roi,\n",
    "                 normalize=True, abs_w=False, posit_w=False)\n",
    "# compute SegGradCAM\n",
    "pixsgc.SGC()\n",
    "# create an object with plotting functionality\n",
    "plotter = SegGradCAMplot(pixsgc,trainunet, gt = trainset.Y[imid])\n",
    "# plot explanations on 1 picture\n",
    "plotter.explainPixel()"
   ]
  },
  {
   "cell_type": "code",
   "execution_count": null,
   "metadata": {},
   "outputs": [],
   "source": [
    "#Plot 4 images: original, ground truth, predicted mask, seg-grad-cam explanations for a selected single pixel\n",
    "plotter.pixelGtPrediction()"
   ]
  },
  {
   "cell_type": "markdown",
   "metadata": {},
   "source": [
    "## 3.3 B. Seg-Grad-CAM for the class (all pixels that were predicted as class 'cls')"
   ]
  },
  {
   "cell_type": "code",
   "execution_count": null,
   "metadata": {},
   "outputs": [],
   "source": [
    "clsroi = ClassRoI(model=model,image=image,cls=cls)\n",
    "newsgc = SegGradCAM(model, image, cls, prop_to_layer,  prop_from_layer, roi=clsroi,\n",
    "                 normalize=True, abs_w=False, posit_w=False)\n",
    "newsgc.SGC()\n",
    "\n",
    "# create an object with plotting functionality\n",
    "plotter = SegGradCAMplot(newsgc,model=model,n_classes=n_classes,outfolder=mdir, gt = valset.Y[imid])\n",
    "# plot explanations on 1 picture\n",
    "plotter.explainClass()"
   ]
  },
  {
   "cell_type": "code",
   "execution_count": null,
   "metadata": {},
   "outputs": [],
   "source": [
    "plotter.classGtPrediction()"
   ]
  },
  {
   "cell_type": "markdown",
   "metadata": {},
   "source": [
    "## 3.3 C. Seg-Grad-CAM for a region of interest\n",
    "### 3.3.C.1 for the largest set of connected pixels predicted as 'cls'"
   ]
  },
  {
   "cell_type": "code",
   "execution_count": null,
   "metadata": {},
   "outputs": [],
   "source": [
    "clsroi.largestComponent()\n",
    "newsgc = SegGradCAM(model, image, cls, prop_to_layer,  prop_from_layer, roi=clsroi,\n",
    "                 normalize=True, abs_w=False, posit_w=False)\n",
    "newsgc.SGC()\n",
    "\n",
    "plotter = SegGradCAMplot(newsgc,model=model,n_classes=n_classes,outfolder=mdir, gt = valset.Y[imid])\n",
    "plotter.explainRoi()"
   ]
  },
  {
   "cell_type": "code",
   "execution_count": null,
   "metadata": {},
   "outputs": [],
   "source": [
    "plotter.roiGtPrediction()"
   ]
  },
  {
   "cell_type": "markdown",
   "metadata": {},
   "source": [
    "### 3.3.C.2 for the smallest set of connected pixels predicted as 'cls'"
   ]
  },
  {
   "cell_type": "code",
   "execution_count": null,
   "metadata": {},
   "outputs": [],
   "source": [
    "clsroi.smallestComponent()\n",
    "newsgc = SegGradCAM(model, image, cls, prop_to_layer,  prop_from_layer, roi=clsroi,\n",
    "                 normalize=True, abs_w=False, posit_w=False)\n",
    "newsgc.SGC()\n",
    "\n",
    "plotter = SegGradCAMplot(newsgc,model=model,n_classes=n_classes,outfolder=mdir, gt = valset.Y[imid])\n",
    "plotter.explainRoi()"
   ]
  },
  {
   "cell_type": "code",
   "execution_count": null,
   "metadata": {},
   "outputs": [],
   "source": [
    "plotter.roiGtPrediction()"
   ]
  },
  {
   "cell_type": "markdown",
   "metadata": {},
   "source": [
    "### 3.3.C.3 It is also possible to define an arbitrary RoI"
   ]
  }
 ],
 "metadata": {
  "kernelspec": {
   "display_name": "Python 3",
   "language": "python",
   "name": "python3"
  },
  "language_info": {
   "codemirror_mode": {
    "name": "ipython",
    "version": 3
   },
   "file_extension": ".py",
   "mimetype": "text/x-python",
   "name": "python",
   "nbconvert_exporter": "python",
   "pygments_lexer": "ipython3",
   "version": "3.6.7"
  }
 },
 "nbformat": 4,
 "nbformat_minor": 2
}
